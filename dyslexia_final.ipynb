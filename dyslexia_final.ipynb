{
 "cells": [
  {
   "cell_type": "markdown",
   "metadata": {},
   "source": [
    "# Detection Tool for Dyslexia.\n",
    "## Team:\n",
    "Kavisha Mathur : PES1UG20CS203\n",
    "Kaushal Suresh : PES1UG20CS201\n",
    "Krishna Bajaj : PES1UG20CS217"
   ]
  },
  {
   "cell_type": "code",
   "execution_count": 3,
   "metadata": {},
   "outputs": [],
   "source": [
    "import numpy as np # linear algebra\n",
    "import pandas as pd # data processing, CSV file I/O (e.g. pd.read_csv)\n",
    "import matplotlib.pyplot as plt\n",
    "import seaborn as sns\n",
    "from pathlib import Path\n",
    "import pickle\n",
    "import os.path\n",
    "from IPython.display import Image, display\n",
    "import matplotlib.cm as cm\n",
    "from sklearn.model_selection import train_test_split\n",
    "from sklearn.preprocessing import StandardScaler\n",
    "import tensorflow as tf \n",
    "from sklearn.metrics import accuracy_score\n",
    "from tensorflow.keras.callbacks import ModelCheckpoint, ReduceLROnPlateau\n",
    "from sklearn.metrics import confusion_matrix\n",
    "from sklearn.metrics import classification_report"
   ]
  },
  {
   "cell_type": "markdown",
   "metadata": {},
   "source": [
    "# EDA and Pre-processing Data"
   ]
  },
  {
   "cell_type": "markdown",
   "metadata": {},
   "source": [
    "## EEG Scans"
   ]
  },
  {
   "cell_type": "code",
   "execution_count": 4,
   "metadata": {},
   "outputs": [],
   "source": [
    "eeg_data=pd.read_csv('Dataset/EEG/EEG_data.csv')\n",
    "demographic_data=pd.read_csv('Dataset/EEG/demographic_info.csv')"
   ]
  },
  {
   "cell_type": "code",
   "execution_count": 5,
   "metadata": {},
   "outputs": [
    {
     "data": {
      "text/html": [
       "<div>\n",
       "<style scoped>\n",
       "    .dataframe tbody tr th:only-of-type {\n",
       "        vertical-align: middle;\n",
       "    }\n",
       "\n",
       "    .dataframe tbody tr th {\n",
       "        vertical-align: top;\n",
       "    }\n",
       "\n",
       "    .dataframe thead th {\n",
       "        text-align: right;\n",
       "    }\n",
       "</style>\n",
       "<table border=\"1\" class=\"dataframe\">\n",
       "  <thead>\n",
       "    <tr style=\"text-align: right;\">\n",
       "      <th></th>\n",
       "      <th>SubjectID</th>\n",
       "      <th>VideoID</th>\n",
       "      <th>Attention</th>\n",
       "      <th>Mediation</th>\n",
       "      <th>Raw</th>\n",
       "      <th>Delta</th>\n",
       "      <th>Theta</th>\n",
       "      <th>Alpha1</th>\n",
       "      <th>Alpha2</th>\n",
       "      <th>Beta1</th>\n",
       "      <th>Beta2</th>\n",
       "      <th>Gamma1</th>\n",
       "      <th>Gamma2</th>\n",
       "      <th>predefinedlabel</th>\n",
       "      <th>user-definedlabeln</th>\n",
       "    </tr>\n",
       "  </thead>\n",
       "  <tbody>\n",
       "    <tr>\n",
       "      <th>0</th>\n",
       "      <td>0.0</td>\n",
       "      <td>0.0</td>\n",
       "      <td>56.0</td>\n",
       "      <td>43.0</td>\n",
       "      <td>278.0</td>\n",
       "      <td>301963.0</td>\n",
       "      <td>90612.0</td>\n",
       "      <td>33735.0</td>\n",
       "      <td>23991.0</td>\n",
       "      <td>27946.0</td>\n",
       "      <td>45097.0</td>\n",
       "      <td>33228.0</td>\n",
       "      <td>8293.0</td>\n",
       "      <td>0.0</td>\n",
       "      <td>0.0</td>\n",
       "    </tr>\n",
       "    <tr>\n",
       "      <th>1</th>\n",
       "      <td>0.0</td>\n",
       "      <td>0.0</td>\n",
       "      <td>40.0</td>\n",
       "      <td>35.0</td>\n",
       "      <td>-50.0</td>\n",
       "      <td>73787.0</td>\n",
       "      <td>28083.0</td>\n",
       "      <td>1439.0</td>\n",
       "      <td>2240.0</td>\n",
       "      <td>2746.0</td>\n",
       "      <td>3687.0</td>\n",
       "      <td>5293.0</td>\n",
       "      <td>2740.0</td>\n",
       "      <td>0.0</td>\n",
       "      <td>0.0</td>\n",
       "    </tr>\n",
       "    <tr>\n",
       "      <th>2</th>\n",
       "      <td>0.0</td>\n",
       "      <td>0.0</td>\n",
       "      <td>47.0</td>\n",
       "      <td>48.0</td>\n",
       "      <td>101.0</td>\n",
       "      <td>758353.0</td>\n",
       "      <td>383745.0</td>\n",
       "      <td>201999.0</td>\n",
       "      <td>62107.0</td>\n",
       "      <td>36293.0</td>\n",
       "      <td>130536.0</td>\n",
       "      <td>57243.0</td>\n",
       "      <td>25354.0</td>\n",
       "      <td>0.0</td>\n",
       "      <td>0.0</td>\n",
       "    </tr>\n",
       "    <tr>\n",
       "      <th>3</th>\n",
       "      <td>0.0</td>\n",
       "      <td>0.0</td>\n",
       "      <td>47.0</td>\n",
       "      <td>57.0</td>\n",
       "      <td>-5.0</td>\n",
       "      <td>2012240.0</td>\n",
       "      <td>129350.0</td>\n",
       "      <td>61236.0</td>\n",
       "      <td>17084.0</td>\n",
       "      <td>11488.0</td>\n",
       "      <td>62462.0</td>\n",
       "      <td>49960.0</td>\n",
       "      <td>33932.0</td>\n",
       "      <td>0.0</td>\n",
       "      <td>0.0</td>\n",
       "    </tr>\n",
       "    <tr>\n",
       "      <th>4</th>\n",
       "      <td>0.0</td>\n",
       "      <td>0.0</td>\n",
       "      <td>44.0</td>\n",
       "      <td>53.0</td>\n",
       "      <td>-8.0</td>\n",
       "      <td>1005145.0</td>\n",
       "      <td>354328.0</td>\n",
       "      <td>37102.0</td>\n",
       "      <td>88881.0</td>\n",
       "      <td>45307.0</td>\n",
       "      <td>99603.0</td>\n",
       "      <td>44790.0</td>\n",
       "      <td>29749.0</td>\n",
       "      <td>0.0</td>\n",
       "      <td>0.0</td>\n",
       "    </tr>\n",
       "  </tbody>\n",
       "</table>\n",
       "</div>"
      ],
      "text/plain": [
       "   SubjectID  VideoID  Attention  Mediation    Raw      Delta     Theta  \\\n",
       "0        0.0      0.0       56.0       43.0  278.0   301963.0   90612.0   \n",
       "1        0.0      0.0       40.0       35.0  -50.0    73787.0   28083.0   \n",
       "2        0.0      0.0       47.0       48.0  101.0   758353.0  383745.0   \n",
       "3        0.0      0.0       47.0       57.0   -5.0  2012240.0  129350.0   \n",
       "4        0.0      0.0       44.0       53.0   -8.0  1005145.0  354328.0   \n",
       "\n",
       "     Alpha1   Alpha2    Beta1     Beta2   Gamma1   Gamma2  predefinedlabel  \\\n",
       "0   33735.0  23991.0  27946.0   45097.0  33228.0   8293.0              0.0   \n",
       "1    1439.0   2240.0   2746.0    3687.0   5293.0   2740.0              0.0   \n",
       "2  201999.0  62107.0  36293.0  130536.0  57243.0  25354.0              0.0   \n",
       "3   61236.0  17084.0  11488.0   62462.0  49960.0  33932.0              0.0   \n",
       "4   37102.0  88881.0  45307.0   99603.0  44790.0  29749.0              0.0   \n",
       "\n",
       "   user-definedlabeln  \n",
       "0                 0.0  \n",
       "1                 0.0  \n",
       "2                 0.0  \n",
       "3                 0.0  \n",
       "4                 0.0  "
      ]
     },
     "execution_count": 5,
     "metadata": {},
     "output_type": "execute_result"
    }
   ],
   "source": [
    "eeg_data.head()"
   ]
  },
  {
   "cell_type": "code",
   "execution_count": 6,
   "metadata": {},
   "outputs": [
    {
     "data": {
      "text/html": [
       "<div>\n",
       "<style scoped>\n",
       "    .dataframe tbody tr th:only-of-type {\n",
       "        vertical-align: middle;\n",
       "    }\n",
       "\n",
       "    .dataframe tbody tr th {\n",
       "        vertical-align: top;\n",
       "    }\n",
       "\n",
       "    .dataframe thead th {\n",
       "        text-align: right;\n",
       "    }\n",
       "</style>\n",
       "<table border=\"1\" class=\"dataframe\">\n",
       "  <thead>\n",
       "    <tr style=\"text-align: right;\">\n",
       "      <th></th>\n",
       "      <th>subject ID</th>\n",
       "      <th>age</th>\n",
       "      <th>ethnicity</th>\n",
       "      <th>gender</th>\n",
       "    </tr>\n",
       "  </thead>\n",
       "  <tbody>\n",
       "    <tr>\n",
       "      <th>0</th>\n",
       "      <td>0</td>\n",
       "      <td>25</td>\n",
       "      <td>Han Chinese</td>\n",
       "      <td>M</td>\n",
       "    </tr>\n",
       "    <tr>\n",
       "      <th>1</th>\n",
       "      <td>1</td>\n",
       "      <td>24</td>\n",
       "      <td>Han Chinese</td>\n",
       "      <td>M</td>\n",
       "    </tr>\n",
       "    <tr>\n",
       "      <th>2</th>\n",
       "      <td>2</td>\n",
       "      <td>31</td>\n",
       "      <td>English</td>\n",
       "      <td>M</td>\n",
       "    </tr>\n",
       "    <tr>\n",
       "      <th>3</th>\n",
       "      <td>3</td>\n",
       "      <td>28</td>\n",
       "      <td>Han Chinese</td>\n",
       "      <td>F</td>\n",
       "    </tr>\n",
       "    <tr>\n",
       "      <th>4</th>\n",
       "      <td>4</td>\n",
       "      <td>24</td>\n",
       "      <td>Bengali</td>\n",
       "      <td>M</td>\n",
       "    </tr>\n",
       "  </tbody>\n",
       "</table>\n",
       "</div>"
      ],
      "text/plain": [
       "   subject ID   age    ethnicity  gender\n",
       "0           0    25  Han Chinese       M\n",
       "1           1    24  Han Chinese       M\n",
       "2           2    31      English       M\n",
       "3           3    28  Han Chinese       F\n",
       "4           4    24      Bengali       M"
      ]
     },
     "execution_count": 6,
     "metadata": {},
     "output_type": "execute_result"
    }
   ],
   "source": [
    "demographic_data.head()"
   ]
  },
  {
   "cell_type": "markdown",
   "metadata": {},
   "source": [
    "We are going to merge the two dataframes."
   ]
  },
  {
   "cell_type": "code",
   "execution_count": 7,
   "metadata": {},
   "outputs": [
    {
     "data": {
      "text/html": [
       "<div>\n",
       "<style scoped>\n",
       "    .dataframe tbody tr th:only-of-type {\n",
       "        vertical-align: middle;\n",
       "    }\n",
       "\n",
       "    .dataframe tbody tr th {\n",
       "        vertical-align: top;\n",
       "    }\n",
       "\n",
       "    .dataframe thead th {\n",
       "        text-align: right;\n",
       "    }\n",
       "</style>\n",
       "<table border=\"1\" class=\"dataframe\">\n",
       "  <thead>\n",
       "    <tr style=\"text-align: right;\">\n",
       "      <th></th>\n",
       "      <th>SubjectID</th>\n",
       "      <th>VideoID</th>\n",
       "      <th>Attention</th>\n",
       "      <th>Mediation</th>\n",
       "      <th>Raw</th>\n",
       "      <th>Delta</th>\n",
       "      <th>Theta</th>\n",
       "      <th>Alpha1</th>\n",
       "      <th>Alpha2</th>\n",
       "      <th>Beta1</th>\n",
       "      <th>Beta2</th>\n",
       "      <th>Gamma1</th>\n",
       "      <th>Gamma2</th>\n",
       "      <th>predefinedlabel</th>\n",
       "      <th>user-definedlabeln</th>\n",
       "      <th>age</th>\n",
       "      <th>ethnicity</th>\n",
       "      <th>gender</th>\n",
       "    </tr>\n",
       "  </thead>\n",
       "  <tbody>\n",
       "    <tr>\n",
       "      <th>0</th>\n",
       "      <td>0.0</td>\n",
       "      <td>0.0</td>\n",
       "      <td>56.0</td>\n",
       "      <td>43.0</td>\n",
       "      <td>278.0</td>\n",
       "      <td>301963.0</td>\n",
       "      <td>90612.0</td>\n",
       "      <td>33735.0</td>\n",
       "      <td>23991.0</td>\n",
       "      <td>27946.0</td>\n",
       "      <td>45097.0</td>\n",
       "      <td>33228.0</td>\n",
       "      <td>8293.0</td>\n",
       "      <td>0.0</td>\n",
       "      <td>0.0</td>\n",
       "      <td>25</td>\n",
       "      <td>Han Chinese</td>\n",
       "      <td>M</td>\n",
       "    </tr>\n",
       "    <tr>\n",
       "      <th>1</th>\n",
       "      <td>0.0</td>\n",
       "      <td>0.0</td>\n",
       "      <td>40.0</td>\n",
       "      <td>35.0</td>\n",
       "      <td>-50.0</td>\n",
       "      <td>73787.0</td>\n",
       "      <td>28083.0</td>\n",
       "      <td>1439.0</td>\n",
       "      <td>2240.0</td>\n",
       "      <td>2746.0</td>\n",
       "      <td>3687.0</td>\n",
       "      <td>5293.0</td>\n",
       "      <td>2740.0</td>\n",
       "      <td>0.0</td>\n",
       "      <td>0.0</td>\n",
       "      <td>25</td>\n",
       "      <td>Han Chinese</td>\n",
       "      <td>M</td>\n",
       "    </tr>\n",
       "    <tr>\n",
       "      <th>2</th>\n",
       "      <td>0.0</td>\n",
       "      <td>0.0</td>\n",
       "      <td>47.0</td>\n",
       "      <td>48.0</td>\n",
       "      <td>101.0</td>\n",
       "      <td>758353.0</td>\n",
       "      <td>383745.0</td>\n",
       "      <td>201999.0</td>\n",
       "      <td>62107.0</td>\n",
       "      <td>36293.0</td>\n",
       "      <td>130536.0</td>\n",
       "      <td>57243.0</td>\n",
       "      <td>25354.0</td>\n",
       "      <td>0.0</td>\n",
       "      <td>0.0</td>\n",
       "      <td>25</td>\n",
       "      <td>Han Chinese</td>\n",
       "      <td>M</td>\n",
       "    </tr>\n",
       "    <tr>\n",
       "      <th>3</th>\n",
       "      <td>0.0</td>\n",
       "      <td>0.0</td>\n",
       "      <td>47.0</td>\n",
       "      <td>57.0</td>\n",
       "      <td>-5.0</td>\n",
       "      <td>2012240.0</td>\n",
       "      <td>129350.0</td>\n",
       "      <td>61236.0</td>\n",
       "      <td>17084.0</td>\n",
       "      <td>11488.0</td>\n",
       "      <td>62462.0</td>\n",
       "      <td>49960.0</td>\n",
       "      <td>33932.0</td>\n",
       "      <td>0.0</td>\n",
       "      <td>0.0</td>\n",
       "      <td>25</td>\n",
       "      <td>Han Chinese</td>\n",
       "      <td>M</td>\n",
       "    </tr>\n",
       "    <tr>\n",
       "      <th>4</th>\n",
       "      <td>0.0</td>\n",
       "      <td>0.0</td>\n",
       "      <td>44.0</td>\n",
       "      <td>53.0</td>\n",
       "      <td>-8.0</td>\n",
       "      <td>1005145.0</td>\n",
       "      <td>354328.0</td>\n",
       "      <td>37102.0</td>\n",
       "      <td>88881.0</td>\n",
       "      <td>45307.0</td>\n",
       "      <td>99603.0</td>\n",
       "      <td>44790.0</td>\n",
       "      <td>29749.0</td>\n",
       "      <td>0.0</td>\n",
       "      <td>0.0</td>\n",
       "      <td>25</td>\n",
       "      <td>Han Chinese</td>\n",
       "      <td>M</td>\n",
       "    </tr>\n",
       "  </tbody>\n",
       "</table>\n",
       "</div>"
      ],
      "text/plain": [
       "   SubjectID  VideoID  Attention  Mediation    Raw      Delta     Theta  \\\n",
       "0        0.0      0.0       56.0       43.0  278.0   301963.0   90612.0   \n",
       "1        0.0      0.0       40.0       35.0  -50.0    73787.0   28083.0   \n",
       "2        0.0      0.0       47.0       48.0  101.0   758353.0  383745.0   \n",
       "3        0.0      0.0       47.0       57.0   -5.0  2012240.0  129350.0   \n",
       "4        0.0      0.0       44.0       53.0   -8.0  1005145.0  354328.0   \n",
       "\n",
       "     Alpha1   Alpha2    Beta1     Beta2   Gamma1   Gamma2  predefinedlabel  \\\n",
       "0   33735.0  23991.0  27946.0   45097.0  33228.0   8293.0              0.0   \n",
       "1    1439.0   2240.0   2746.0    3687.0   5293.0   2740.0              0.0   \n",
       "2  201999.0  62107.0  36293.0  130536.0  57243.0  25354.0              0.0   \n",
       "3   61236.0  17084.0  11488.0   62462.0  49960.0  33932.0              0.0   \n",
       "4   37102.0  88881.0  45307.0   99603.0  44790.0  29749.0              0.0   \n",
       "\n",
       "   user-definedlabeln   age    ethnicity  gender  \n",
       "0                 0.0    25  Han Chinese       M  \n",
       "1                 0.0    25  Han Chinese       M  \n",
       "2                 0.0    25  Han Chinese       M  \n",
       "3                 0.0    25  Han Chinese       M  \n",
       "4                 0.0    25  Han Chinese       M  "
      ]
     },
     "execution_count": 7,
     "metadata": {},
     "output_type": "execute_result"
    }
   ],
   "source": [
    "demographic_data.rename(columns = {'subject ID':'SubjectID'}, inplace = True)\n",
    "df=eeg_data.merge(demographic_data,how = 'inner',on = 'SubjectID')\n",
    "df.head()"
   ]
  },
  {
   "cell_type": "code",
   "execution_count": 8,
   "metadata": {},
   "outputs": [
    {
     "data": {
      "text/plain": [
       "(12811, 18)"
      ]
     },
     "execution_count": 8,
     "metadata": {},
     "output_type": "execute_result"
    }
   ],
   "source": [
    "df.shape"
   ]
  },
  {
   "cell_type": "code",
   "execution_count": 9,
   "metadata": {},
   "outputs": [
    {
     "data": {
      "text/plain": [
       "Index(['SubjectID', 'VideoID', 'Attention', 'Mediation', 'Raw', 'Delta',\n",
       "       'Theta', 'Alpha1', 'Alpha2', 'Beta1', 'Beta2', 'Gamma1', 'Gamma2',\n",
       "       'predefinedlabel', 'user-definedlabeln', ' age', ' ethnicity',\n",
       "       ' gender'],\n",
       "      dtype='object')"
      ]
     },
     "execution_count": 9,
     "metadata": {},
     "output_type": "execute_result"
    }
   ],
   "source": [
    "df.columns"
   ]
  },
  {
   "cell_type": "code",
   "execution_count": 10,
   "metadata": {},
   "outputs": [
    {
     "name": "stdout",
     "output_type": "stream",
     "text": [
      "<class 'pandas.core.frame.DataFrame'>\n",
      "Int64Index: 12811 entries, 0 to 12810\n",
      "Data columns (total 18 columns):\n",
      " #   Column              Non-Null Count  Dtype  \n",
      "---  ------              --------------  -----  \n",
      " 0   SubjectID           12811 non-null  float64\n",
      " 1   VideoID             12811 non-null  float64\n",
      " 2   Attention           12811 non-null  float64\n",
      " 3   Mediation           12811 non-null  float64\n",
      " 4   Raw                 12811 non-null  float64\n",
      " 5   Delta               12811 non-null  float64\n",
      " 6   Theta               12811 non-null  float64\n",
      " 7   Alpha1              12811 non-null  float64\n",
      " 8   Alpha2              12811 non-null  float64\n",
      " 9   Beta1               12811 non-null  float64\n",
      " 10  Beta2               12811 non-null  float64\n",
      " 11  Gamma1              12811 non-null  float64\n",
      " 12  Gamma2              12811 non-null  float64\n",
      " 13  predefinedlabel     12811 non-null  float64\n",
      " 14  user-definedlabeln  12811 non-null  float64\n",
      " 15   age                12811 non-null  int64  \n",
      " 16   ethnicity          12811 non-null  object \n",
      " 17   gender             12811 non-null  object \n",
      "dtypes: float64(15), int64(1), object(2)\n",
      "memory usage: 1.9+ MB\n"
     ]
    }
   ],
   "source": [
    "df.info()"
   ]
  },
  {
   "cell_type": "code",
   "execution_count": 11,
   "metadata": {},
   "outputs": [
    {
     "data": {
      "text/html": [
       "<div>\n",
       "<style scoped>\n",
       "    .dataframe tbody tr th:only-of-type {\n",
       "        vertical-align: middle;\n",
       "    }\n",
       "\n",
       "    .dataframe tbody tr th {\n",
       "        vertical-align: top;\n",
       "    }\n",
       "\n",
       "    .dataframe thead th {\n",
       "        text-align: right;\n",
       "    }\n",
       "</style>\n",
       "<table border=\"1\" class=\"dataframe\">\n",
       "  <thead>\n",
       "    <tr style=\"text-align: right;\">\n",
       "      <th></th>\n",
       "      <th>SubjectID</th>\n",
       "      <th>VideoID</th>\n",
       "      <th>Attention</th>\n",
       "      <th>Mediation</th>\n",
       "      <th>Raw</th>\n",
       "      <th>Delta</th>\n",
       "      <th>Theta</th>\n",
       "      <th>Alpha1</th>\n",
       "      <th>Alpha2</th>\n",
       "      <th>Beta1</th>\n",
       "      <th>Beta2</th>\n",
       "      <th>Gamma1</th>\n",
       "      <th>Gamma2</th>\n",
       "      <th>predefinedlabel</th>\n",
       "      <th>user-definedlabeln</th>\n",
       "      <th>age</th>\n",
       "    </tr>\n",
       "  </thead>\n",
       "  <tbody>\n",
       "    <tr>\n",
       "      <th>count</th>\n",
       "      <td>12811.000000</td>\n",
       "      <td>12811.000000</td>\n",
       "      <td>12811.000000</td>\n",
       "      <td>12811.000000</td>\n",
       "      <td>12811.000000</td>\n",
       "      <td>1.281100e+04</td>\n",
       "      <td>1.281100e+04</td>\n",
       "      <td>1.281100e+04</td>\n",
       "      <td>1.281100e+04</td>\n",
       "      <td>1.281100e+04</td>\n",
       "      <td>1.281100e+04</td>\n",
       "      <td>1.281100e+04</td>\n",
       "      <td>1.281100e+04</td>\n",
       "      <td>12811.000000</td>\n",
       "      <td>12811.000000</td>\n",
       "      <td>12811.000000</td>\n",
       "    </tr>\n",
       "    <tr>\n",
       "      <th>mean</th>\n",
       "      <td>4.487394</td>\n",
       "      <td>4.390602</td>\n",
       "      <td>41.313871</td>\n",
       "      <td>47.182656</td>\n",
       "      <td>65.570760</td>\n",
       "      <td>6.057853e+05</td>\n",
       "      <td>1.680526e+05</td>\n",
       "      <td>4.138435e+04</td>\n",
       "      <td>3.318339e+04</td>\n",
       "      <td>2.431837e+04</td>\n",
       "      <td>3.814433e+04</td>\n",
       "      <td>2.959255e+04</td>\n",
       "      <td>1.441597e+04</td>\n",
       "      <td>0.479978</td>\n",
       "      <td>0.512606</td>\n",
       "      <td>25.409960</td>\n",
       "    </tr>\n",
       "    <tr>\n",
       "      <th>std</th>\n",
       "      <td>2.865373</td>\n",
       "      <td>2.913232</td>\n",
       "      <td>23.152953</td>\n",
       "      <td>22.655976</td>\n",
       "      <td>597.921035</td>\n",
       "      <td>6.376236e+05</td>\n",
       "      <td>2.441346e+05</td>\n",
       "      <td>7.243082e+04</td>\n",
       "      <td>5.831410e+04</td>\n",
       "      <td>3.837968e+04</td>\n",
       "      <td>7.906606e+04</td>\n",
       "      <td>7.982637e+04</td>\n",
       "      <td>3.603523e+04</td>\n",
       "      <td>0.499618</td>\n",
       "      <td>0.499861</td>\n",
       "      <td>2.205148</td>\n",
       "    </tr>\n",
       "    <tr>\n",
       "      <th>min</th>\n",
       "      <td>0.000000</td>\n",
       "      <td>0.000000</td>\n",
       "      <td>0.000000</td>\n",
       "      <td>0.000000</td>\n",
       "      <td>-2048.000000</td>\n",
       "      <td>4.480000e+02</td>\n",
       "      <td>1.700000e+01</td>\n",
       "      <td>2.000000e+00</td>\n",
       "      <td>2.000000e+00</td>\n",
       "      <td>3.000000e+00</td>\n",
       "      <td>2.000000e+00</td>\n",
       "      <td>1.000000e+00</td>\n",
       "      <td>2.000000e+00</td>\n",
       "      <td>0.000000</td>\n",
       "      <td>0.000000</td>\n",
       "      <td>24.000000</td>\n",
       "    </tr>\n",
       "    <tr>\n",
       "      <th>25%</th>\n",
       "      <td>2.000000</td>\n",
       "      <td>2.000000</td>\n",
       "      <td>27.000000</td>\n",
       "      <td>37.000000</td>\n",
       "      <td>-14.000000</td>\n",
       "      <td>9.806400e+04</td>\n",
       "      <td>2.691750e+04</td>\n",
       "      <td>6.838000e+03</td>\n",
       "      <td>6.852000e+03</td>\n",
       "      <td>6.140000e+03</td>\n",
       "      <td>7.358500e+03</td>\n",
       "      <td>4.058000e+03</td>\n",
       "      <td>2.167500e+03</td>\n",
       "      <td>0.000000</td>\n",
       "      <td>0.000000</td>\n",
       "      <td>24.000000</td>\n",
       "    </tr>\n",
       "    <tr>\n",
       "      <th>50%</th>\n",
       "      <td>4.000000</td>\n",
       "      <td>4.000000</td>\n",
       "      <td>43.000000</td>\n",
       "      <td>51.000000</td>\n",
       "      <td>35.000000</td>\n",
       "      <td>3.954870e+05</td>\n",
       "      <td>8.133100e+04</td>\n",
       "      <td>1.750000e+04</td>\n",
       "      <td>1.495900e+04</td>\n",
       "      <td>1.281800e+04</td>\n",
       "      <td>1.581000e+04</td>\n",
       "      <td>9.763000e+03</td>\n",
       "      <td>5.116000e+03</td>\n",
       "      <td>0.000000</td>\n",
       "      <td>1.000000</td>\n",
       "      <td>25.000000</td>\n",
       "    </tr>\n",
       "    <tr>\n",
       "      <th>75%</th>\n",
       "      <td>7.000000</td>\n",
       "      <td>7.000000</td>\n",
       "      <td>57.000000</td>\n",
       "      <td>63.000000</td>\n",
       "      <td>90.000000</td>\n",
       "      <td>9.166230e+05</td>\n",
       "      <td>2.052760e+05</td>\n",
       "      <td>4.477950e+04</td>\n",
       "      <td>3.455050e+04</td>\n",
       "      <td>2.740600e+04</td>\n",
       "      <td>3.549400e+04</td>\n",
       "      <td>2.488800e+04</td>\n",
       "      <td>1.266950e+04</td>\n",
       "      <td>1.000000</td>\n",
       "      <td>1.000000</td>\n",
       "      <td>25.000000</td>\n",
       "    </tr>\n",
       "    <tr>\n",
       "      <th>max</th>\n",
       "      <td>9.000000</td>\n",
       "      <td>9.000000</td>\n",
       "      <td>100.000000</td>\n",
       "      <td>100.000000</td>\n",
       "      <td>2047.000000</td>\n",
       "      <td>3.964663e+06</td>\n",
       "      <td>3.007802e+06</td>\n",
       "      <td>1.369955e+06</td>\n",
       "      <td>1.016913e+06</td>\n",
       "      <td>1.067778e+06</td>\n",
       "      <td>1.645369e+06</td>\n",
       "      <td>1.972506e+06</td>\n",
       "      <td>1.348117e+06</td>\n",
       "      <td>1.000000</td>\n",
       "      <td>1.000000</td>\n",
       "      <td>31.000000</td>\n",
       "    </tr>\n",
       "  </tbody>\n",
       "</table>\n",
       "</div>"
      ],
      "text/plain": [
       "          SubjectID       VideoID     Attention     Mediation           Raw  \\\n",
       "count  12811.000000  12811.000000  12811.000000  12811.000000  12811.000000   \n",
       "mean       4.487394      4.390602     41.313871     47.182656     65.570760   \n",
       "std        2.865373      2.913232     23.152953     22.655976    597.921035   \n",
       "min        0.000000      0.000000      0.000000      0.000000  -2048.000000   \n",
       "25%        2.000000      2.000000     27.000000     37.000000    -14.000000   \n",
       "50%        4.000000      4.000000     43.000000     51.000000     35.000000   \n",
       "75%        7.000000      7.000000     57.000000     63.000000     90.000000   \n",
       "max        9.000000      9.000000    100.000000    100.000000   2047.000000   \n",
       "\n",
       "              Delta         Theta        Alpha1        Alpha2         Beta1  \\\n",
       "count  1.281100e+04  1.281100e+04  1.281100e+04  1.281100e+04  1.281100e+04   \n",
       "mean   6.057853e+05  1.680526e+05  4.138435e+04  3.318339e+04  2.431837e+04   \n",
       "std    6.376236e+05  2.441346e+05  7.243082e+04  5.831410e+04  3.837968e+04   \n",
       "min    4.480000e+02  1.700000e+01  2.000000e+00  2.000000e+00  3.000000e+00   \n",
       "25%    9.806400e+04  2.691750e+04  6.838000e+03  6.852000e+03  6.140000e+03   \n",
       "50%    3.954870e+05  8.133100e+04  1.750000e+04  1.495900e+04  1.281800e+04   \n",
       "75%    9.166230e+05  2.052760e+05  4.477950e+04  3.455050e+04  2.740600e+04   \n",
       "max    3.964663e+06  3.007802e+06  1.369955e+06  1.016913e+06  1.067778e+06   \n",
       "\n",
       "              Beta2        Gamma1        Gamma2  predefinedlabel  \\\n",
       "count  1.281100e+04  1.281100e+04  1.281100e+04     12811.000000   \n",
       "mean   3.814433e+04  2.959255e+04  1.441597e+04         0.479978   \n",
       "std    7.906606e+04  7.982637e+04  3.603523e+04         0.499618   \n",
       "min    2.000000e+00  1.000000e+00  2.000000e+00         0.000000   \n",
       "25%    7.358500e+03  4.058000e+03  2.167500e+03         0.000000   \n",
       "50%    1.581000e+04  9.763000e+03  5.116000e+03         0.000000   \n",
       "75%    3.549400e+04  2.488800e+04  1.266950e+04         1.000000   \n",
       "max    1.645369e+06  1.972506e+06  1.348117e+06         1.000000   \n",
       "\n",
       "       user-definedlabeln           age  \n",
       "count        12811.000000  12811.000000  \n",
       "mean             0.512606     25.409960  \n",
       "std              0.499861      2.205148  \n",
       "min              0.000000     24.000000  \n",
       "25%              0.000000     24.000000  \n",
       "50%              1.000000     25.000000  \n",
       "75%              1.000000     25.000000  \n",
       "max              1.000000     31.000000  "
      ]
     },
     "execution_count": 11,
     "metadata": {},
     "output_type": "execute_result"
    }
   ],
   "source": [
    "df.describe()"
   ]
  },
  {
   "cell_type": "markdown",
   "metadata": {},
   "source": [
    "We'll replace the categorical values with numerical values."
   ]
  },
  {
   "cell_type": "code",
   "execution_count": 12,
   "metadata": {},
   "outputs": [],
   "source": [
    "df[' gender']=df[' gender'].replace({'M':1,'F':0})\n",
    "df[' ethnicity']=df[' ethnicity'].replace({'Han Chinese':0,'Bengali':1,'English':2})"
   ]
  },
  {
   "cell_type": "code",
   "execution_count": 13,
   "metadata": {},
   "outputs": [
    {
     "data": {
      "text/html": [
       "<div>\n",
       "<style scoped>\n",
       "    .dataframe tbody tr th:only-of-type {\n",
       "        vertical-align: middle;\n",
       "    }\n",
       "\n",
       "    .dataframe tbody tr th {\n",
       "        vertical-align: top;\n",
       "    }\n",
       "\n",
       "    .dataframe thead th {\n",
       "        text-align: right;\n",
       "    }\n",
       "</style>\n",
       "<table border=\"1\" class=\"dataframe\">\n",
       "  <thead>\n",
       "    <tr style=\"text-align: right;\">\n",
       "      <th></th>\n",
       "      <th>SubjectID</th>\n",
       "      <th>VideoID</th>\n",
       "      <th>Attention</th>\n",
       "      <th>Mediation</th>\n",
       "      <th>Raw</th>\n",
       "      <th>Delta</th>\n",
       "      <th>Theta</th>\n",
       "      <th>Alpha1</th>\n",
       "      <th>Alpha2</th>\n",
       "      <th>Beta1</th>\n",
       "      <th>Beta2</th>\n",
       "      <th>Gamma1</th>\n",
       "      <th>Gamma2</th>\n",
       "      <th>predefinedlabel</th>\n",
       "      <th>user-definedlabeln</th>\n",
       "      <th>age</th>\n",
       "      <th>ethnicity</th>\n",
       "      <th>gender</th>\n",
       "    </tr>\n",
       "  </thead>\n",
       "  <tbody>\n",
       "    <tr>\n",
       "      <th>0</th>\n",
       "      <td>0.0</td>\n",
       "      <td>0.0</td>\n",
       "      <td>56.0</td>\n",
       "      <td>43.0</td>\n",
       "      <td>278.0</td>\n",
       "      <td>301963.0</td>\n",
       "      <td>90612.0</td>\n",
       "      <td>33735.0</td>\n",
       "      <td>23991.0</td>\n",
       "      <td>27946.0</td>\n",
       "      <td>45097.0</td>\n",
       "      <td>33228.0</td>\n",
       "      <td>8293.0</td>\n",
       "      <td>0.0</td>\n",
       "      <td>0.0</td>\n",
       "      <td>25</td>\n",
       "      <td>0</td>\n",
       "      <td>1</td>\n",
       "    </tr>\n",
       "    <tr>\n",
       "      <th>1</th>\n",
       "      <td>0.0</td>\n",
       "      <td>0.0</td>\n",
       "      <td>40.0</td>\n",
       "      <td>35.0</td>\n",
       "      <td>-50.0</td>\n",
       "      <td>73787.0</td>\n",
       "      <td>28083.0</td>\n",
       "      <td>1439.0</td>\n",
       "      <td>2240.0</td>\n",
       "      <td>2746.0</td>\n",
       "      <td>3687.0</td>\n",
       "      <td>5293.0</td>\n",
       "      <td>2740.0</td>\n",
       "      <td>0.0</td>\n",
       "      <td>0.0</td>\n",
       "      <td>25</td>\n",
       "      <td>0</td>\n",
       "      <td>1</td>\n",
       "    </tr>\n",
       "    <tr>\n",
       "      <th>2</th>\n",
       "      <td>0.0</td>\n",
       "      <td>0.0</td>\n",
       "      <td>47.0</td>\n",
       "      <td>48.0</td>\n",
       "      <td>101.0</td>\n",
       "      <td>758353.0</td>\n",
       "      <td>383745.0</td>\n",
       "      <td>201999.0</td>\n",
       "      <td>62107.0</td>\n",
       "      <td>36293.0</td>\n",
       "      <td>130536.0</td>\n",
       "      <td>57243.0</td>\n",
       "      <td>25354.0</td>\n",
       "      <td>0.0</td>\n",
       "      <td>0.0</td>\n",
       "      <td>25</td>\n",
       "      <td>0</td>\n",
       "      <td>1</td>\n",
       "    </tr>\n",
       "    <tr>\n",
       "      <th>3</th>\n",
       "      <td>0.0</td>\n",
       "      <td>0.0</td>\n",
       "      <td>47.0</td>\n",
       "      <td>57.0</td>\n",
       "      <td>-5.0</td>\n",
       "      <td>2012240.0</td>\n",
       "      <td>129350.0</td>\n",
       "      <td>61236.0</td>\n",
       "      <td>17084.0</td>\n",
       "      <td>11488.0</td>\n",
       "      <td>62462.0</td>\n",
       "      <td>49960.0</td>\n",
       "      <td>33932.0</td>\n",
       "      <td>0.0</td>\n",
       "      <td>0.0</td>\n",
       "      <td>25</td>\n",
       "      <td>0</td>\n",
       "      <td>1</td>\n",
       "    </tr>\n",
       "    <tr>\n",
       "      <th>4</th>\n",
       "      <td>0.0</td>\n",
       "      <td>0.0</td>\n",
       "      <td>44.0</td>\n",
       "      <td>53.0</td>\n",
       "      <td>-8.0</td>\n",
       "      <td>1005145.0</td>\n",
       "      <td>354328.0</td>\n",
       "      <td>37102.0</td>\n",
       "      <td>88881.0</td>\n",
       "      <td>45307.0</td>\n",
       "      <td>99603.0</td>\n",
       "      <td>44790.0</td>\n",
       "      <td>29749.0</td>\n",
       "      <td>0.0</td>\n",
       "      <td>0.0</td>\n",
       "      <td>25</td>\n",
       "      <td>0</td>\n",
       "      <td>1</td>\n",
       "    </tr>\n",
       "  </tbody>\n",
       "</table>\n",
       "</div>"
      ],
      "text/plain": [
       "   SubjectID  VideoID  Attention  Mediation    Raw      Delta     Theta  \\\n",
       "0        0.0      0.0       56.0       43.0  278.0   301963.0   90612.0   \n",
       "1        0.0      0.0       40.0       35.0  -50.0    73787.0   28083.0   \n",
       "2        0.0      0.0       47.0       48.0  101.0   758353.0  383745.0   \n",
       "3        0.0      0.0       47.0       57.0   -5.0  2012240.0  129350.0   \n",
       "4        0.0      0.0       44.0       53.0   -8.0  1005145.0  354328.0   \n",
       "\n",
       "     Alpha1   Alpha2    Beta1     Beta2   Gamma1   Gamma2  predefinedlabel  \\\n",
       "0   33735.0  23991.0  27946.0   45097.0  33228.0   8293.0              0.0   \n",
       "1    1439.0   2240.0   2746.0    3687.0   5293.0   2740.0              0.0   \n",
       "2  201999.0  62107.0  36293.0  130536.0  57243.0  25354.0              0.0   \n",
       "3   61236.0  17084.0  11488.0   62462.0  49960.0  33932.0              0.0   \n",
       "4   37102.0  88881.0  45307.0   99603.0  44790.0  29749.0              0.0   \n",
       "\n",
       "   user-definedlabeln   age   ethnicity   gender  \n",
       "0                 0.0    25           0        1  \n",
       "1                 0.0    25           0        1  \n",
       "2                 0.0    25           0        1  \n",
       "3                 0.0    25           0        1  \n",
       "4                 0.0    25           0        1  "
      ]
     },
     "execution_count": 13,
     "metadata": {},
     "output_type": "execute_result"
    }
   ],
   "source": [
    "df.head()"
   ]
  },
  {
   "cell_type": "code",
   "execution_count": 14,
   "metadata": {},
   "outputs": [
    {
     "data": {
      "text/plain": [
       "array([0., 1.])"
      ]
     },
     "execution_count": 14,
     "metadata": {},
     "output_type": "execute_result"
    }
   ],
   "source": [
    "df['predefinedlabel'].unique()"
   ]
  },
  {
   "cell_type": "markdown",
   "metadata": {},
   "source": [
    "Checking for imbalanced dataset and null values:"
   ]
  },
  {
   "cell_type": "code",
   "execution_count": 15,
   "metadata": {},
   "outputs": [
    {
     "data": {
      "text/plain": [
       "0.0    6662\n",
       "1.0    6149\n",
       "Name: predefinedlabel, dtype: int64"
      ]
     },
     "execution_count": 15,
     "metadata": {},
     "output_type": "execute_result"
    }
   ],
   "source": [
    "df['predefinedlabel'].value_counts()"
   ]
  },
  {
   "cell_type": "code",
   "execution_count": 16,
   "metadata": {},
   "outputs": [
    {
     "data": {
      "text/plain": [
       "SubjectID             0\n",
       "VideoID               0\n",
       "Attention             0\n",
       "Mediation             0\n",
       "Raw                   0\n",
       "Delta                 0\n",
       "Theta                 0\n",
       "Alpha1                0\n",
       "Alpha2                0\n",
       "Beta1                 0\n",
       "Beta2                 0\n",
       "Gamma1                0\n",
       "Gamma2                0\n",
       "predefinedlabel       0\n",
       "user-definedlabeln    0\n",
       " age                  0\n",
       " ethnicity            0\n",
       " gender               0\n",
       "dtype: int64"
      ]
     },
     "execution_count": 16,
     "metadata": {},
     "output_type": "execute_result"
    }
   ],
   "source": [
    "df.isnull().sum()"
   ]
  },
  {
   "cell_type": "code",
   "execution_count": 18,
   "metadata": {},
   "outputs": [
    {
     "data": {
      "image/png": "[encoded data removed]",
      "text/plain": [
       "<Figure size 864x720 with 2 Axes>"
      ]
     },
     "metadata": {
      "needs_background": "light"
     },
     "output_type": "display_data"
    }
   ],
   "source": [
    "plt.figure(figsize=(12,10))\n",
    "cor = df.corr()\n",
    "sns.heatmap(cor, annot=True, cmap=plt.cm.Reds)\n",
    "plt.show()"
   ]
  },
  {
   "cell_type": "markdown",
   "metadata": {},
   "source": [
    "### Feature Extraction"
   ]
  },
  {
   "cell_type": "code",
   "execution_count": 19,
   "metadata": {},
   "outputs": [],
   "source": [
    "from sklearn.datasets import fetch_openml\n",
    "import category_encoders as ce\n",
    "from sklearn.feature_selection import mutual_info_classif as MIC\n",
    "from sklearn.feature_selection import SelectKBest, SelectPercentile, mutual_info_classif"
   ]
  },
  {
   "cell_type": "code",
   "execution_count": 20,
   "metadata": {},
   "outputs": [
    {
     "name": "stdout",
     "output_type": "stream",
     "text": [
      "VideoID            6.939966\n",
      "Alpha2             2.639270\n",
      "Gamma1             2.520185\n",
      "Delta              2.438453\n",
      "Theta              2.107324\n",
      "Alpha1             2.028399\n",
      "Beta1              2.002433\n",
      "Gamma2             1.479049\n",
      "Attention          1.407462\n",
      "Beta2              1.368965\n",
      "Raw                1.086772\n",
      "SubjectID          0.895167\n",
      "Mediation          0.779032\n",
      " age               0.416051\n",
      "predefinedlabel    0.309522\n",
      " ethnicity         0.289819\n",
      " gender            0.000000\n",
      "dtype: float64\n"
     ]
    }
   ],
   "source": [
    "threshold = 14  # the number of most relevant features\n",
    "high_score_features = []\n",
    "mi_score=MIC(df.drop('user-definedlabeln',axis=1),df['user-definedlabeln'])\n",
    "mi_score=pd.Series(mi_score,index=df.drop('user-definedlabeln',axis=1).columns)\n",
    "mi_score=(mi_score*100).sort_values(ascending=False)\n",
    "print(mi_score)"
   ]
  },
  {
   "cell_type": "code",
   "execution_count": 21,
   "metadata": {},
   "outputs": [
    {
     "data": {
      "text/plain": [
       "Index(['VideoID', 'Alpha2', 'Gamma1', 'Delta', 'Theta', 'Alpha1', 'Beta1',\n",
       "       'Gamma2', 'Attention', 'Beta2', 'Raw', 'SubjectID', 'Mediation',\n",
       "       ' age'],\n",
       "      dtype='object')"
      ]
     },
     "execution_count": 21,
     "metadata": {},
     "output_type": "execute_result"
    }
   ],
   "source": [
    "#print(high_score_features)\n",
    "mi_score.head(14).index"
   ]
  },
  {
   "cell_type": "code",
   "execution_count": 22,
   "metadata": {},
   "outputs": [
    {
     "data": {
      "text/html": [
       "<div>\n",
       "<style scoped>\n",
       "    .dataframe tbody tr th:only-of-type {\n",
       "        vertical-align: middle;\n",
       "    }\n",
       "\n",
       "    .dataframe tbody tr th {\n",
       "        vertical-align: top;\n",
       "    }\n",
       "\n",
       "    .dataframe thead th {\n",
       "        text-align: right;\n",
       "    }\n",
       "</style>\n",
       "<table border=\"1\" class=\"dataframe\">\n",
       "  <thead>\n",
       "    <tr style=\"text-align: right;\">\n",
       "      <th></th>\n",
       "      <th>SubjectID</th>\n",
       "      <th>VideoID</th>\n",
       "      <th>Attention</th>\n",
       "      <th>Mediation</th>\n",
       "      <th>Raw</th>\n",
       "      <th>Delta</th>\n",
       "      <th>Theta</th>\n",
       "      <th>Alpha1</th>\n",
       "      <th>Alpha2</th>\n",
       "      <th>Beta1</th>\n",
       "      <th>Beta2</th>\n",
       "      <th>Gamma1</th>\n",
       "      <th>Gamma2</th>\n",
       "      <th>age</th>\n",
       "    </tr>\n",
       "  </thead>\n",
       "  <tbody>\n",
       "    <tr>\n",
       "      <th>0</th>\n",
       "      <td>0.0</td>\n",
       "      <td>0.0</td>\n",
       "      <td>56.0</td>\n",
       "      <td>43.0</td>\n",
       "      <td>278.0</td>\n",
       "      <td>301963.0</td>\n",
       "      <td>90612.0</td>\n",
       "      <td>33735.0</td>\n",
       "      <td>23991.0</td>\n",
       "      <td>27946.0</td>\n",
       "      <td>45097.0</td>\n",
       "      <td>33228.0</td>\n",
       "      <td>8293.0</td>\n",
       "      <td>25</td>\n",
       "    </tr>\n",
       "    <tr>\n",
       "      <th>1</th>\n",
       "      <td>0.0</td>\n",
       "      <td>0.0</td>\n",
       "      <td>40.0</td>\n",
       "      <td>35.0</td>\n",
       "      <td>-50.0</td>\n",
       "      <td>73787.0</td>\n",
       "      <td>28083.0</td>\n",
       "      <td>1439.0</td>\n",
       "      <td>2240.0</td>\n",
       "      <td>2746.0</td>\n",
       "      <td>3687.0</td>\n",
       "      <td>5293.0</td>\n",
       "      <td>2740.0</td>\n",
       "      <td>25</td>\n",
       "    </tr>\n",
       "    <tr>\n",
       "      <th>2</th>\n",
       "      <td>0.0</td>\n",
       "      <td>0.0</td>\n",
       "      <td>47.0</td>\n",
       "      <td>48.0</td>\n",
       "      <td>101.0</td>\n",
       "      <td>758353.0</td>\n",
       "      <td>383745.0</td>\n",
       "      <td>201999.0</td>\n",
       "      <td>62107.0</td>\n",
       "      <td>36293.0</td>\n",
       "      <td>130536.0</td>\n",
       "      <td>57243.0</td>\n",
       "      <td>25354.0</td>\n",
       "      <td>25</td>\n",
       "    </tr>\n",
       "    <tr>\n",
       "      <th>3</th>\n",
       "      <td>0.0</td>\n",
       "      <td>0.0</td>\n",
       "      <td>47.0</td>\n",
       "      <td>57.0</td>\n",
       "      <td>-5.0</td>\n",
       "      <td>2012240.0</td>\n",
       "      <td>129350.0</td>\n",
       "      <td>61236.0</td>\n",
       "      <td>17084.0</td>\n",
       "      <td>11488.0</td>\n",
       "      <td>62462.0</td>\n",
       "      <td>49960.0</td>\n",
       "      <td>33932.0</td>\n",
       "      <td>25</td>\n",
       "    </tr>\n",
       "    <tr>\n",
       "      <th>4</th>\n",
       "      <td>0.0</td>\n",
       "      <td>0.0</td>\n",
       "      <td>44.0</td>\n",
       "      <td>53.0</td>\n",
       "      <td>-8.0</td>\n",
       "      <td>1005145.0</td>\n",
       "      <td>354328.0</td>\n",
       "      <td>37102.0</td>\n",
       "      <td>88881.0</td>\n",
       "      <td>45307.0</td>\n",
       "      <td>99603.0</td>\n",
       "      <td>44790.0</td>\n",
       "      <td>29749.0</td>\n",
       "      <td>25</td>\n",
       "    </tr>\n",
       "  </tbody>\n",
       "</table>\n",
       "</div>"
      ],
      "text/plain": [
       "   SubjectID  VideoID  Attention  Mediation    Raw      Delta     Theta  \\\n",
       "0        0.0      0.0       56.0       43.0  278.0   301963.0   90612.0   \n",
       "1        0.0      0.0       40.0       35.0  -50.0    73787.0   28083.0   \n",
       "2        0.0      0.0       47.0       48.0  101.0   758353.0  383745.0   \n",
       "3        0.0      0.0       47.0       57.0   -5.0  2012240.0  129350.0   \n",
       "4        0.0      0.0       44.0       53.0   -8.0  1005145.0  354328.0   \n",
       "\n",
       "     Alpha1   Alpha2    Beta1     Beta2   Gamma1   Gamma2   age  \n",
       "0   33735.0  23991.0  27946.0   45097.0  33228.0   8293.0    25  \n",
       "1    1439.0   2240.0   2746.0    3687.0   5293.0   2740.0    25  \n",
       "2  201999.0  62107.0  36293.0  130536.0  57243.0  25354.0    25  \n",
       "3   61236.0  17084.0  11488.0   62462.0  49960.0  33932.0    25  \n",
       "4   37102.0  88881.0  45307.0   99603.0  44790.0  29749.0    25  "
      ]
     },
     "execution_count": 22,
     "metadata": {},
     "output_type": "execute_result"
    }
   ],
   "source": [
    "high_score_features=['SubjectID', 'VideoID', 'Attention', 'Mediation', 'Raw', 'Delta', 'Theta', 'Alpha1', 'Alpha2', 'Beta1',\n",
    "       'Beta2', 'Gamma1', 'Gamma2', ' age']\n",
    "df_top=df[high_score_features]\n",
    "df_top.head()"
   ]
  },
  {
   "cell_type": "markdown",
   "metadata": {},
   "source": [
    "## Standardized Tests"
   ]
  },
  {
   "cell_type": "code",
   "execution_count": 22,
   "metadata": {},
   "outputs": [
    {
     "data": {
      "text/html": [
       "<div>\n",
       "<style scoped>\n",
       "    .dataframe tbody tr th:only-of-type {\n",
       "        vertical-align: middle;\n",
       "    }\n",
       "\n",
       "    .dataframe tbody tr th {\n",
       "        vertical-align: top;\n",
       "    }\n",
       "\n",
       "    .dataframe thead th {\n",
       "        text-align: right;\n",
       "    }\n",
       "</style>\n",
       "<table border=\"1\" class=\"dataframe\">\n",
       "  <thead>\n",
       "    <tr style=\"text-align: right;\">\n",
       "      <th></th>\n",
       "      <th>Language_vocab</th>\n",
       "      <th>Memory</th>\n",
       "      <th>Speed</th>\n",
       "      <th>Visual_discrimination</th>\n",
       "      <th>Audio_Discrimination</th>\n",
       "      <th>Survey_Score</th>\n",
       "    </tr>\n",
       "  </thead>\n",
       "  <tbody>\n",
       "    <tr>\n",
       "      <th>0</th>\n",
       "      <td>0.5</td>\n",
       "      <td>0.6</td>\n",
       "      <td>0.5</td>\n",
       "      <td>0.8</td>\n",
       "      <td>0.6</td>\n",
       "      <td>0.7</td>\n",
       "    </tr>\n",
       "    <tr>\n",
       "      <th>1</th>\n",
       "      <td>0.6</td>\n",
       "      <td>0.7</td>\n",
       "      <td>0.8</td>\n",
       "      <td>0.9</td>\n",
       "      <td>0.5</td>\n",
       "      <td>0.8</td>\n",
       "    </tr>\n",
       "    <tr>\n",
       "      <th>2</th>\n",
       "      <td>0.6</td>\n",
       "      <td>0.4</td>\n",
       "      <td>0.3</td>\n",
       "      <td>0.3</td>\n",
       "      <td>0.4</td>\n",
       "      <td>0.6</td>\n",
       "    </tr>\n",
       "    <tr>\n",
       "      <th>3</th>\n",
       "      <td>0.3</td>\n",
       "      <td>0.5</td>\n",
       "      <td>0.2</td>\n",
       "      <td>0.1</td>\n",
       "      <td>0.3</td>\n",
       "      <td>0.5</td>\n",
       "    </tr>\n",
       "    <tr>\n",
       "      <th>4</th>\n",
       "      <td>0.7</td>\n",
       "      <td>0.6</td>\n",
       "      <td>0.7</td>\n",
       "      <td>0.8</td>\n",
       "      <td>0.9</td>\n",
       "      <td>0.5</td>\n",
       "    </tr>\n",
       "  </tbody>\n",
       "</table>\n",
       "</div>"
      ],
      "text/plain": [
       "   Language_vocab  Memory  Speed  Visual_discrimination  Audio_Discrimination  \\\n",
       "0             0.5     0.6    0.5                    0.8                   0.6   \n",
       "1             0.6     0.7    0.8                    0.9                   0.5   \n",
       "2             0.6     0.4    0.3                    0.3                   0.4   \n",
       "3             0.3     0.5    0.2                    0.1                   0.3   \n",
       "4             0.7     0.6    0.7                    0.8                   0.9   \n",
       "\n",
       "   Survey_Score  \n",
       "0           0.7  \n",
       "1           0.8  \n",
       "2           0.6  \n",
       "3           0.5  \n",
       "4           0.5  "
      ]
     },
     "execution_count": 22,
     "metadata": {},
     "output_type": "execute_result"
    }
   ],
   "source": [
    "data=pd.read_csv('Dataset/Standardized_Test/labeled_dysx.csv')\n",
    "y=data.Label \n",
    "data.head()\n",
    "\n",
    "X=data.drop(['Label'],axis=1) \n",
    "X.head()"
   ]
  },
  {
   "cell_type": "code",
   "execution_count": 23,
   "metadata": {},
   "outputs": [
    {
     "data": {
      "text/plain": [
       "Language_vocab           float64\n",
       "Memory                   float64\n",
       "Speed                    float64\n",
       "Visual_discrimination    float64\n",
       "Audio_Discrimination     float64\n",
       "Survey_Score             float64\n",
       "Label                      int64\n",
       "dtype: object"
      ]
     },
     "execution_count": 23,
     "metadata": {},
     "output_type": "execute_result"
    }
   ],
   "source": [
    "data.dtypes"
   ]
  },
  {
   "cell_type": "code",
   "execution_count": 24,
   "metadata": {},
   "outputs": [
    {
     "data": {
      "text/plain": [
       "(500, 7)"
      ]
     },
     "execution_count": 24,
     "metadata": {},
     "output_type": "execute_result"
    }
   ],
   "source": [
    "data.shape"
   ]
  },
  {
   "cell_type": "code",
   "execution_count": 25,
   "metadata": {},
   "outputs": [
    {
     "data": {
      "image/png": "[encoded data removed]",
      "text/plain": [
       "<Figure size 576x576 with 9 Axes>"
      ]
     },
     "metadata": {
      "needs_background": "light"
     },
     "output_type": "display_data"
    }
   ],
   "source": [
    "data.hist(figsize=(8,8), xrot=45)\n",
    "plt.show()"
   ]
  },
  {
   "cell_type": "code",
   "execution_count": 26,
   "metadata": {},
   "outputs": [
    {
     "data": {
      "text/html": [
       "<div>\n",
       "<style scoped>\n",
       "    .dataframe tbody tr th:only-of-type {\n",
       "        vertical-align: middle;\n",
       "    }\n",
       "\n",
       "    .dataframe tbody tr th {\n",
       "        vertical-align: top;\n",
       "    }\n",
       "\n",
       "    .dataframe thead th {\n",
       "        text-align: right;\n",
       "    }\n",
       "</style>\n",
       "<table border=\"1\" class=\"dataframe\">\n",
       "  <thead>\n",
       "    <tr style=\"text-align: right;\">\n",
       "      <th></th>\n",
       "      <th>Language_vocab</th>\n",
       "      <th>Memory</th>\n",
       "      <th>Speed</th>\n",
       "      <th>Visual_discrimination</th>\n",
       "      <th>Audio_Discrimination</th>\n",
       "      <th>Survey_Score</th>\n",
       "      <th>Label</th>\n",
       "    </tr>\n",
       "  </thead>\n",
       "  <tbody>\n",
       "    <tr>\n",
       "      <th>count</th>\n",
       "      <td>500.00000</td>\n",
       "      <td>500.000000</td>\n",
       "      <td>500.000000</td>\n",
       "      <td>500.00000</td>\n",
       "      <td>500.000000</td>\n",
       "      <td>500.000000</td>\n",
       "      <td>500.000000</td>\n",
       "    </tr>\n",
       "    <tr>\n",
       "      <th>mean</th>\n",
       "      <td>0.57800</td>\n",
       "      <td>0.572000</td>\n",
       "      <td>0.576800</td>\n",
       "      <td>0.58260</td>\n",
       "      <td>0.580200</td>\n",
       "      <td>0.581000</td>\n",
       "      <td>1.206000</td>\n",
       "    </tr>\n",
       "    <tr>\n",
       "      <th>std</th>\n",
       "      <td>0.20019</td>\n",
       "      <td>0.212382</td>\n",
       "      <td>0.215487</td>\n",
       "      <td>0.21719</td>\n",
       "      <td>0.202163</td>\n",
       "      <td>0.210684</td>\n",
       "      <td>0.642175</td>\n",
       "    </tr>\n",
       "    <tr>\n",
       "      <th>min</th>\n",
       "      <td>0.00000</td>\n",
       "      <td>0.000000</td>\n",
       "      <td>0.000000</td>\n",
       "      <td>0.00000</td>\n",
       "      <td>0.000000</td>\n",
       "      <td>0.000000</td>\n",
       "      <td>0.000000</td>\n",
       "    </tr>\n",
       "    <tr>\n",
       "      <th>25%</th>\n",
       "      <td>0.50000</td>\n",
       "      <td>0.400000</td>\n",
       "      <td>0.500000</td>\n",
       "      <td>0.50000</td>\n",
       "      <td>0.500000</td>\n",
       "      <td>0.500000</td>\n",
       "      <td>1.000000</td>\n",
       "    </tr>\n",
       "    <tr>\n",
       "      <th>50%</th>\n",
       "      <td>0.60000</td>\n",
       "      <td>0.600000</td>\n",
       "      <td>0.600000</td>\n",
       "      <td>0.60000</td>\n",
       "      <td>0.600000</td>\n",
       "      <td>0.600000</td>\n",
       "      <td>1.000000</td>\n",
       "    </tr>\n",
       "    <tr>\n",
       "      <th>75%</th>\n",
       "      <td>0.70000</td>\n",
       "      <td>0.700000</td>\n",
       "      <td>0.700000</td>\n",
       "      <td>0.70000</td>\n",
       "      <td>0.700000</td>\n",
       "      <td>0.700000</td>\n",
       "      <td>2.000000</td>\n",
       "    </tr>\n",
       "    <tr>\n",
       "      <th>max</th>\n",
       "      <td>1.00000</td>\n",
       "      <td>1.000000</td>\n",
       "      <td>1.000000</td>\n",
       "      <td>1.00000</td>\n",
       "      <td>1.000000</td>\n",
       "      <td>1.000000</td>\n",
       "      <td>2.000000</td>\n",
       "    </tr>\n",
       "  </tbody>\n",
       "</table>\n",
       "</div>"
      ],
      "text/plain": [
       "       Language_vocab      Memory       Speed  Visual_discrimination  \\\n",
       "count       500.00000  500.000000  500.000000              500.00000   \n",
       "mean          0.57800    0.572000    0.576800                0.58260   \n",
       "std           0.20019    0.212382    0.215487                0.21719   \n",
       "min           0.00000    0.000000    0.000000                0.00000   \n",
       "25%           0.50000    0.400000    0.500000                0.50000   \n",
       "50%           0.60000    0.600000    0.600000                0.60000   \n",
       "75%           0.70000    0.700000    0.700000                0.70000   \n",
       "max           1.00000    1.000000    1.000000                1.00000   \n",
       "\n",
       "       Audio_Discrimination  Survey_Score       Label  \n",
       "count            500.000000    500.000000  500.000000  \n",
       "mean               0.580200      0.581000    1.206000  \n",
       "std                0.202163      0.210684    0.642175  \n",
       "min                0.000000      0.000000    0.000000  \n",
       "25%                0.500000      0.500000    1.000000  \n",
       "50%                0.600000      0.600000    1.000000  \n",
       "75%                0.700000      0.700000    2.000000  \n",
       "max                1.000000      1.000000    2.000000  "
      ]
     },
     "execution_count": 26,
     "metadata": {},
     "output_type": "execute_result"
    }
   ],
   "source": [
    "data.describe()"
   ]
  },
  {
   "cell_type": "code",
   "execution_count": 27,
   "metadata": {},
   "outputs": [],
   "source": [
    "for col in data.select_dtypes(include='object'):\n",
    "    if data[col].nunique() <= 22:\n",
    "        sns.countplot(y=col, data=data)\n",
    "        plt.show()"
   ]
  },
  {
   "cell_type": "code",
   "execution_count": 28,
   "metadata": {},
   "outputs": [
    {
     "data": {
      "text/plain": [
       "<AxesSubplot:>"
      ]
     },
     "execution_count": 28,
     "metadata": {},
     "output_type": "execute_result"
    },
    {
     "data": {
      "image/png": "[encoded data removed]",
      "text/plain": [
       "<Figure size 432x288 with 2 Axes>"
      ]
     },
     "metadata": {
      "needs_background": "light"
     },
     "output_type": "display_data"
    }
   ],
   "source": [
    "corr=data.corr()\n",
    "sns.heatmap(corr)"
   ]
  },
  {
   "cell_type": "code",
   "execution_count": 29,
   "metadata": {},
   "outputs": [
    {
     "data": {
      "text/plain": [
       "Text(0.5, 1.0, 'Label')"
      ]
     },
     "execution_count": 29,
     "metadata": {},
     "output_type": "execute_result"
    },
    {
     "data": {
      "image/png": "[encoded data removed]",
      "text/plain": [
       "<Figure size 432x288 with 1 Axes>"
      ]
     },
     "metadata": {
      "needs_background": "light"
     },
     "output_type": "display_data"
    }
   ],
   "source": [
    "sns.barplot(x='Language_vocab',y='Label',data=data)\n",
    "plt.xlabel('Language_vocab')\n",
    "plt.xticks(rotation=90)\n",
    "plt.title('Label')\n",
    "\n",
    "sns.barplot(x='Speed',y='Label',data=data)\n",
    "plt.xlabel('Speed')\n",
    "plt.xticks(rotation=90)\n",
    "plt.title('Label')\n",
    "\n",
    "sns.barplot(x='Visual_discrimination',y='Label',data=data)\n",
    "plt.xlabel('Visual_discrimination')\n",
    "plt.xticks(rotation=90)\n",
    "plt.title('Label')\n",
    "\n",
    "sns.barplot(x='Audio_Discrimination',y='Label',data=data)\n",
    "plt.xlabel('Audio_Discrimination')\n",
    "plt.xticks(rotation=90)\n",
    "plt.title('Label')\n",
    "\n",
    "sns.barplot(x='Survey_Score',y='Label',data=data)\n",
    "plt.xlabel('Survey_Score')\n",
    "plt.xticks(rotation=90)\n",
    "plt.title('Label')"
   ]
  },
  {
   "cell_type": "markdown",
   "metadata": {},
   "source": [
    "In the given data, the label is the indication for whether the person has dyslexia or not.\n",
    "\n",
    "Label = 0 means that there is a high chance that the person has dyslexia.\n",
    "\n",
    "Label = 1 means that there is a moderte chance that the person has dyslexia.\n",
    "\n",
    "Label = 2 means that there is a low chance that the person has dyslexia.\n",
    "\n",
    "The Survey_Score is calculated on the basis of the answers to the quiz given by the applicant"
   ]
  },
  {
   "cell_type": "markdown",
   "metadata": {},
   "source": [
    "## Handwriting"
   ]
  },
  {
   "cell_type": "code",
   "execution_count": 30,
   "metadata": {},
   "outputs": [],
   "source": [
    "# data loading\n",
    "image_dir = Path('Dataset/Gambo/Train/')\n",
    "\n",
    "# get filepaths and labels\n",
    "filepaths1 = list(image_dir.glob(r'**/*.png'))\n",
    "filepaths2 = list(image_dir.glob(r'**/*.jpg'))\n",
    "filepaths = filepaths1 + filepaths2\n",
    "\n",
    "labels = list(map(lambda x: os.path.split(os.path.split(x)[0])[1], filepaths))\n",
    "\n",
    "filepaths = pd.Series(filepaths, name='Filepath').astype(str)\n",
    "labels = pd.Series(labels, name='Label')\n",
    "\n",
    "# concatenate filepaths and labels\n",
    "image_df = pd.concat([filepaths, labels], axis=1)\n",
    "\n",
    "# drop GT images\n",
    "image_df = image_df[image_df['Label'].apply(lambda x: x[-2:] != 'GT')]"
   ]
  },
  {
   "cell_type": "code",
   "execution_count": 31,
   "metadata": {},
   "outputs": [
    {
     "data": {
      "text/html": [
       "<div>\n",
       "<style scoped>\n",
       "    .dataframe tbody tr th:only-of-type {\n",
       "        vertical-align: middle;\n",
       "    }\n",
       "\n",
       "    .dataframe tbody tr th {\n",
       "        vertical-align: top;\n",
       "    }\n",
       "\n",
       "    .dataframe thead th {\n",
       "        text-align: right;\n",
       "    }\n",
       "</style>\n",
       "<table border=\"1\" class=\"dataframe\">\n",
       "  <thead>\n",
       "    <tr style=\"text-align: right;\">\n",
       "      <th></th>\n",
       "      <th>Filepath</th>\n",
       "      <th>Label</th>\n",
       "    </tr>\n",
       "  </thead>\n",
       "  <tbody>\n",
       "    <tr>\n",
       "      <th>0</th>\n",
       "      <td>Dataset\\Gambo\\Train\\Normal\\H-640.png</td>\n",
       "      <td>Normal</td>\n",
       "    </tr>\n",
       "    <tr>\n",
       "      <th>1</th>\n",
       "      <td>Dataset\\Gambo\\Train\\Reversal\\b_958.png</td>\n",
       "      <td>Reversal</td>\n",
       "    </tr>\n",
       "    <tr>\n",
       "      <th>2</th>\n",
       "      <td>Dataset\\Gambo\\Train\\Corrected\\9_14408.png</td>\n",
       "      <td>Corrected</td>\n",
       "    </tr>\n",
       "    <tr>\n",
       "      <th>3</th>\n",
       "      <td>Dataset\\Gambo\\Train\\Reversal\\1_23481.png</td>\n",
       "      <td>Reversal</td>\n",
       "    </tr>\n",
       "    <tr>\n",
       "      <th>4</th>\n",
       "      <td>Dataset\\Gambo\\Train\\Corrected\\9_10085.png</td>\n",
       "      <td>Corrected</td>\n",
       "    </tr>\n",
       "  </tbody>\n",
       "</table>\n",
       "</div>"
      ],
      "text/plain": [
       "                                    Filepath      Label\n",
       "0       Dataset\\Gambo\\Train\\Normal\\H-640.png     Normal\n",
       "1     Dataset\\Gambo\\Train\\Reversal\\b_958.png   Reversal\n",
       "2  Dataset\\Gambo\\Train\\Corrected\\9_14408.png  Corrected\n",
       "3   Dataset\\Gambo\\Train\\Reversal\\1_23481.png   Reversal\n",
       "4  Dataset\\Gambo\\Train\\Corrected\\9_10085.png  Corrected"
      ]
     },
     "execution_count": 31,
     "metadata": {},
     "output_type": "execute_result"
    }
   ],
   "source": [
    "# shuffle the DataFrame and reset index\n",
    "image_df = image_df.sample(frac=1).reset_index(drop = True)\n",
    "\n",
    "# show the result\n",
    "image_df.head()"
   ]
  },
  {
   "cell_type": "code",
   "execution_count": 32,
   "metadata": {},
   "outputs": [
    {
     "data": {
      "image/png": "[encoded data removed]",
      "text/plain": [
       "<Figure size 1080x504 with 15 Axes>"
      ]
     },
     "metadata": {},
     "output_type": "display_data"
    }
   ],
   "source": [
    "# display 20 picture of the dataset with their labels\n",
    "from turtle import color\n",
    "\n",
    "fig, axes = plt.subplots(nrows=3, ncols=5, figsize=(15, 7),\n",
    "                        subplot_kw={'xticks': [], 'yticks': []})\n",
    "\n",
    "for i, ax in enumerate(axes.flat):\n",
    "    ax.imshow(plt.imread(image_df.Filepath[i]))\n",
    "    ax.set_title(image_df.Label[i], color='white')\n",
    "plt.tight_layout()\n",
    "plt.show()"
   ]
  },
  {
   "cell_type": "markdown",
   "metadata": {},
   "source": [
    "# Model"
   ]
  },
  {
   "cell_type": "markdown",
   "metadata": {},
   "source": [
    "## Detection using EEG Scans"
   ]
  },
  {
   "cell_type": "markdown",
   "metadata": {},
   "source": [
    "Neural Network"
   ]
  },
  {
   "cell_type": "code",
   "execution_count": 23,
   "metadata": {},
   "outputs": [],
   "source": [
    "#Scaling the datasets\n",
    "from sklearn.preprocessing import StandardScaler\n",
    "scaler_eeg=StandardScaler()\n",
    "scaler_eeg.fit(df_top)\n",
    "df_sc=scaler_eeg.transform(df_top)"
   ]
  },
  {
   "cell_type": "code",
   "execution_count": 24,
   "metadata": {},
   "outputs": [],
   "source": [
    "#Building the neural-network\n",
    "import tensorflow as tf\n",
    "from tensorflow import keras\n",
    "from tensorflow.keras import callbacks,layers"
   ]
  },
  {
   "cell_type": "code",
   "execution_count": 25,
   "metadata": {},
   "outputs": [],
   "source": [
    "#Splitting it as Train and Test\n",
    "from sklearn.model_selection import train_test_split\n",
    "y=pd.get_dummies(df['user-definedlabeln'])\n",
    "Xtr,xte,Ytr,yte=train_test_split(df_sc,y,random_state=42,test_size=0.27)\n",
    "xtr,xval,ytr,yval=train_test_split(Xtr,Ytr,random_state=42,test_size=0.27)"
   ]
  },
  {
   "cell_type": "code",
   "execution_count": 26,
   "metadata": {},
   "outputs": [
    {
     "name": "stdout",
     "output_type": "stream",
     "text": [
      "Model: \"sequential\"\n",
      "_________________________________________________________________\n",
      " Layer (type)                Output Shape              Param #   \n",
      "=================================================================\n",
      " dense (Dense)               (None, 64)                960       \n",
      "                                                                 \n",
      " batch_normalization (BatchN  (None, 64)               256       \n",
      " ormalization)                                                   \n",
      "                                                                 \n",
      " dropout (Dropout)           (None, 64)                0         \n",
      "                                                                 \n",
      " dense_1 (Dense)             (None, 128)               8320      \n",
      "                                                                 \n",
      " batch_normalization_1 (Batc  (None, 128)              512       \n",
      " hNormalization)                                                 \n",
      "                                                                 \n",
      " dropout_1 (Dropout)         (None, 128)               0         \n",
      "                                                                 \n",
      " dense_2 (Dense)             (None, 256)               33024     \n",
      "                                                                 \n",
      " batch_normalization_2 (Batc  (None, 256)              1024      \n",
      " hNormalization)                                                 \n",
      "                                                                 \n",
      " dropout_2 (Dropout)         (None, 256)               0         \n",
      "                                                                 \n",
      " dense_3 (Dense)             (None, 128)               32896     \n",
      "                                                                 \n",
      " batch_normalization_3 (Batc  (None, 128)              512       \n",
      " hNormalization)                                                 \n",
      "                                                                 \n",
      " dropout_3 (Dropout)         (None, 128)               0         \n",
      "                                                                 \n",
      " dense_4 (Dense)             (None, 2)                 258       \n",
      "                                                                 \n",
      "=================================================================\n",
      "Total params: 77,762\n",
      "Trainable params: 76,610\n",
      "Non-trainable params: 1,152\n",
      "_________________________________________________________________\n"
     ]
    }
   ],
   "source": [
    "model_eeg_nn=keras.Sequential([\n",
    "    layers.Dense(64,input_shape=(14,),activation='relu'),\n",
    "    layers.BatchNormalization(),\n",
    "    layers.Dropout(0.3),\n",
    "    layers.Dense(128,activation='relu'),\n",
    "    layers.BatchNormalization(),\n",
    "    layers.Dropout(0.3),\n",
    "    layers.Dense(256,activation='relu'),\n",
    "    layers.BatchNormalization(),\n",
    "    layers.Dropout(0.3),   \n",
    "    layers.Dense(128,activation='relu'),\n",
    "    layers.BatchNormalization(),\n",
    "    layers.Dropout(0.3),\n",
    "    layers.Dense(2,activation='sigmoid')\n",
    "])\n",
    "\n",
    "model_eeg_nn.compile(optimizer='adam',loss='binary_crossentropy',metrics='accuracy')\n",
    "model_eeg_nn.summary()"
   ]
  },
  {
   "cell_type": "code",
   "execution_count": 27,
   "metadata": {},
   "outputs": [
    {
     "name": "stdout",
     "output_type": "stream",
     "text": [
      "Epoch 1/150\n",
      "228/228 [==============================] - 10s 21ms/step - loss: 0.7889 - accuracy: 0.5820 - val_loss: 0.6301 - val_accuracy: 0.6679\n",
      "Epoch 2/150\n",
      "228/228 [==============================] - 5s 20ms/step - loss: 0.6903 - accuracy: 0.6135 - val_loss: 0.5993 - val_accuracy: 0.6857\n",
      "Epoch 3/150\n",
      "228/228 [==============================] - 4s 17ms/step - loss: 0.6535 - accuracy: 0.6408 - val_loss: 0.5847 - val_accuracy: 0.6956\n",
      "Epoch 4/150\n",
      "228/228 [==============================] - 4s 17ms/step - loss: 0.6260 - accuracy: 0.6620 - val_loss: 0.5688 - val_accuracy: 0.6975\n",
      "Epoch 5/150\n",
      "228/228 [==============================] - 4s 16ms/step - loss: 0.6193 - accuracy: 0.6644 - val_loss: 0.5600 - val_accuracy: 0.7189\n",
      "Epoch 6/150\n",
      "228/228 [==============================] - 4s 18ms/step - loss: 0.6116 - accuracy: 0.6765 - val_loss: 0.5540 - val_accuracy: 0.7138\n",
      "Epoch 7/150\n",
      "228/228 [==============================] - 4s 17ms/step - loss: 0.5949 - accuracy: 0.6912 - val_loss: 0.5395 - val_accuracy: 0.7154\n",
      "Epoch 8/150\n",
      "228/228 [==============================] - 4s 17ms/step - loss: 0.5843 - accuracy: 0.6965 - val_loss: 0.5235 - val_accuracy: 0.7280\n",
      "Epoch 9/150\n",
      "228/228 [==============================] - 4s 18ms/step - loss: 0.5806 - accuracy: 0.6950 - val_loss: 0.5173 - val_accuracy: 0.7296\n",
      "Epoch 10/150\n",
      "228/228 [==============================] - 4s 16ms/step - loss: 0.5725 - accuracy: 0.7025 - val_loss: 0.4983 - val_accuracy: 0.7332\n",
      "Epoch 11/150\n",
      "228/228 [==============================] - 4s 17ms/step - loss: 0.5569 - accuracy: 0.7195 - val_loss: 0.4759 - val_accuracy: 0.7585\n",
      "Epoch 12/150\n",
      "228/228 [==============================] - 4s 17ms/step - loss: 0.5551 - accuracy: 0.7177 - val_loss: 0.4741 - val_accuracy: 0.7498\n",
      "Epoch 13/150\n",
      "228/228 [==============================] - 4s 17ms/step - loss: 0.5451 - accuracy: 0.7137 - val_loss: 0.4460 - val_accuracy: 0.7795\n",
      "Epoch 14/150\n",
      "228/228 [==============================] - 4s 18ms/step - loss: 0.5356 - accuracy: 0.7322 - val_loss: 0.4580 - val_accuracy: 0.7771\n",
      "Epoch 15/150\n",
      "228/228 [==============================] - 4s 17ms/step - loss: 0.5209 - accuracy: 0.7398 - val_loss: 0.4301 - val_accuracy: 0.7874\n",
      "Epoch 16/150\n",
      "228/228 [==============================] - 4s 17ms/step - loss: 0.5234 - accuracy: 0.7318 - val_loss: 0.4151 - val_accuracy: 0.8052\n",
      "Epoch 17/150\n",
      "228/228 [==============================] - 4s 18ms/step - loss: 0.5067 - accuracy: 0.7474 - val_loss: 0.3956 - val_accuracy: 0.8072\n",
      "Epoch 18/150\n",
      "228/228 [==============================] - 4s 16ms/step - loss: 0.4971 - accuracy: 0.7536 - val_loss: 0.3767 - val_accuracy: 0.8183\n",
      "Epoch 19/150\n",
      "228/228 [==============================] - 4s 18ms/step - loss: 0.4838 - accuracy: 0.7589 - val_loss: 0.3726 - val_accuracy: 0.8274\n",
      "Epoch 20/150\n",
      "228/228 [==============================] - 4s 17ms/step - loss: 0.4762 - accuracy: 0.7603 - val_loss: 0.3490 - val_accuracy: 0.8416\n",
      "Epoch 21/150\n",
      "228/228 [==============================] - 4s 16ms/step - loss: 0.4714 - accuracy: 0.7678 - val_loss: 0.3413 - val_accuracy: 0.8424\n",
      "Epoch 22/150\n",
      "228/228 [==============================] - 4s 17ms/step - loss: 0.4537 - accuracy: 0.7814 - val_loss: 0.3264 - val_accuracy: 0.8515\n",
      "Epoch 23/150\n",
      "228/228 [==============================] - 4s 16ms/step - loss: 0.4537 - accuracy: 0.7750 - val_loss: 0.3233 - val_accuracy: 0.8452\n",
      "Epoch 24/150\n",
      "228/228 [==============================] - 4s 16ms/step - loss: 0.4430 - accuracy: 0.7873 - val_loss: 0.3172 - val_accuracy: 0.8535\n",
      "Epoch 25/150\n",
      "228/228 [==============================] - 4s 17ms/step - loss: 0.4338 - accuracy: 0.7892 - val_loss: 0.3084 - val_accuracy: 0.8595\n",
      "Epoch 26/150\n",
      "228/228 [==============================] - 4s 17ms/step - loss: 0.4232 - accuracy: 0.7992 - val_loss: 0.2812 - val_accuracy: 0.8745\n",
      "Epoch 27/150\n",
      "228/228 [==============================] - 4s 17ms/step - loss: 0.4159 - accuracy: 0.7994 - val_loss: 0.2751 - val_accuracy: 0.8785\n",
      "Epoch 28/150\n",
      "228/228 [==============================] - 4s 18ms/step - loss: 0.4123 - accuracy: 0.7981 - val_loss: 0.2771 - val_accuracy: 0.8824\n",
      "Epoch 29/150\n",
      "228/228 [==============================] - 4s 19ms/step - loss: 0.4095 - accuracy: 0.8009 - val_loss: 0.2666 - val_accuracy: 0.8899\n",
      "Epoch 30/150\n",
      "228/228 [==============================] - 4s 19ms/step - loss: 0.4044 - accuracy: 0.8063 - val_loss: 0.2655 - val_accuracy: 0.8832\n",
      "Epoch 31/150\n",
      "228/228 [==============================] - 4s 18ms/step - loss: 0.3866 - accuracy: 0.8170 - val_loss: 0.2475 - val_accuracy: 0.9010\n",
      "Epoch 32/150\n",
      "228/228 [==============================] - 4s 19ms/step - loss: 0.3829 - accuracy: 0.8202 - val_loss: 0.2407 - val_accuracy: 0.8979\n",
      "Epoch 33/150\n",
      "228/228 [==============================] - 4s 18ms/step - loss: 0.3848 - accuracy: 0.8156 - val_loss: 0.2289 - val_accuracy: 0.9074\n",
      "Epoch 34/150\n",
      "228/228 [==============================] - 4s 18ms/step - loss: 0.3756 - accuracy: 0.8282 - val_loss: 0.2158 - val_accuracy: 0.9117\n",
      "Epoch 35/150\n",
      "228/228 [==============================] - 4s 19ms/step - loss: 0.3727 - accuracy: 0.8273 - val_loss: 0.2083 - val_accuracy: 0.9240\n",
      "Epoch 36/150\n",
      "228/228 [==============================] - 6s 26ms/step - loss: 0.3655 - accuracy: 0.8298 - val_loss: 0.2078 - val_accuracy: 0.9283\n",
      "Epoch 37/150\n",
      "228/228 [==============================] - 5s 24ms/step - loss: 0.3587 - accuracy: 0.8343 - val_loss: 0.2028 - val_accuracy: 0.9125\n",
      "Epoch 38/150\n",
      "228/228 [==============================] - 4s 20ms/step - loss: 0.3572 - accuracy: 0.8304 - val_loss: 0.1928 - val_accuracy: 0.9335\n",
      "Epoch 39/150\n",
      "228/228 [==============================] - 4s 18ms/step - loss: 0.3447 - accuracy: 0.8419 - val_loss: 0.1789 - val_accuracy: 0.9355\n",
      "Epoch 40/150\n",
      "228/228 [==============================] - 4s 18ms/step - loss: 0.3297 - accuracy: 0.8545 - val_loss: 0.1671 - val_accuracy: 0.9347\n",
      "Epoch 41/150\n",
      "228/228 [==============================] - 4s 17ms/step - loss: 0.3360 - accuracy: 0.8517 - val_loss: 0.1626 - val_accuracy: 0.9446\n",
      "Epoch 42/150\n",
      "228/228 [==============================] - 4s 17ms/step - loss: 0.3336 - accuracy: 0.8413 - val_loss: 0.1606 - val_accuracy: 0.9406\n",
      "Epoch 43/150\n",
      "228/228 [==============================] - 4s 18ms/step - loss: 0.3285 - accuracy: 0.8491 - val_loss: 0.1554 - val_accuracy: 0.9442\n",
      "Epoch 44/150\n",
      "228/228 [==============================] - 4s 18ms/step - loss: 0.3175 - accuracy: 0.8566 - val_loss: 0.1447 - val_accuracy: 0.9466\n",
      "Epoch 45/150\n",
      "228/228 [==============================] - 4s 18ms/step - loss: 0.3041 - accuracy: 0.8654 - val_loss: 0.1431 - val_accuracy: 0.9450\n",
      "Epoch 46/150\n",
      "228/228 [==============================] - 4s 19ms/step - loss: 0.3061 - accuracy: 0.8610 - val_loss: 0.1293 - val_accuracy: 0.9537\n",
      "Epoch 47/150\n",
      "228/228 [==============================] - 4s 16ms/step - loss: 0.2922 - accuracy: 0.8705 - val_loss: 0.1204 - val_accuracy: 0.9580\n",
      "Epoch 48/150\n",
      "228/228 [==============================] - 4s 17ms/step - loss: 0.2910 - accuracy: 0.8721 - val_loss: 0.1130 - val_accuracy: 0.9588\n",
      "Epoch 49/150\n",
      "228/228 [==============================] - 4s 17ms/step - loss: 0.2873 - accuracy: 0.8730 - val_loss: 0.1209 - val_accuracy: 0.9580\n",
      "Epoch 50/150\n",
      "228/228 [==============================] - 4s 17ms/step - loss: 0.2762 - accuracy: 0.8799 - val_loss: 0.1103 - val_accuracy: 0.9584\n",
      "Epoch 51/150\n",
      "228/228 [==============================] - 4s 16ms/step - loss: 0.2745 - accuracy: 0.8765 - val_loss: 0.1083 - val_accuracy: 0.9592\n",
      "Epoch 52/150\n",
      "228/228 [==============================] - 4s 17ms/step - loss: 0.2696 - accuracy: 0.8859 - val_loss: 0.1047 - val_accuracy: 0.9620\n",
      "Epoch 53/150\n",
      "228/228 [==============================] - 4s 17ms/step - loss: 0.2732 - accuracy: 0.8875 - val_loss: 0.1041 - val_accuracy: 0.9640\n",
      "Epoch 54/150\n",
      "228/228 [==============================] - 4s 17ms/step - loss: 0.2517 - accuracy: 0.8887 - val_loss: 0.0957 - val_accuracy: 0.9632\n",
      "Epoch 55/150\n",
      "228/228 [==============================] - 4s 17ms/step - loss: 0.2648 - accuracy: 0.8885 - val_loss: 0.0968 - val_accuracy: 0.9648\n",
      "Epoch 56/150\n",
      "228/228 [==============================] - 4s 17ms/step - loss: 0.2608 - accuracy: 0.8872 - val_loss: 0.0999 - val_accuracy: 0.9620\n",
      "Epoch 57/150\n",
      "228/228 [==============================] - 4s 17ms/step - loss: 0.2554 - accuracy: 0.8879 - val_loss: 0.0878 - val_accuracy: 0.9648\n",
      "Epoch 58/150\n",
      "228/228 [==============================] - 4s 16ms/step - loss: 0.2555 - accuracy: 0.8890 - val_loss: 0.0906 - val_accuracy: 0.9656\n",
      "Epoch 59/150\n",
      "228/228 [==============================] - 4s 17ms/step - loss: 0.2552 - accuracy: 0.8900 - val_loss: 0.0902 - val_accuracy: 0.9660\n",
      "Epoch 60/150\n",
      "228/228 [==============================] - 4s 17ms/step - loss: 0.2479 - accuracy: 0.8945 - val_loss: 0.0885 - val_accuracy: 0.9663\n",
      "Epoch 61/150\n",
      "228/228 [==============================] - 4s 16ms/step - loss: 0.2457 - accuracy: 0.8980 - val_loss: 0.0859 - val_accuracy: 0.9644\n",
      "Epoch 62/150\n",
      "228/228 [==============================] - 4s 17ms/step - loss: 0.2338 - accuracy: 0.9016 - val_loss: 0.0869 - val_accuracy: 0.9660\n",
      "Epoch 63/150\n",
      "228/228 [==============================] - 4s 19ms/step - loss: 0.2419 - accuracy: 0.8966 - val_loss: 0.0797 - val_accuracy: 0.9691\n",
      "Epoch 64/150\n",
      "228/228 [==============================] - 6s 27ms/step - loss: 0.2403 - accuracy: 0.8972 - val_loss: 0.0823 - val_accuracy: 0.9691\n",
      "Epoch 65/150\n",
      "228/228 [==============================] - 7s 30ms/step - loss: 0.2364 - accuracy: 0.8972 - val_loss: 0.0842 - val_accuracy: 0.9663\n",
      "Epoch 66/150\n",
      "228/228 [==============================] - 7s 30ms/step - loss: 0.2408 - accuracy: 0.9001 - val_loss: 0.0824 - val_accuracy: 0.9671\n",
      "Epoch 67/150\n",
      "228/228 [==============================] - 7s 30ms/step - loss: 0.2346 - accuracy: 0.8994 - val_loss: 0.0808 - val_accuracy: 0.9656\n",
      "Epoch 68/150\n",
      "228/228 [==============================] - 7s 30ms/step - loss: 0.2400 - accuracy: 0.8964 - val_loss: 0.0801 - val_accuracy: 0.9687\n",
      "Epoch 69/150\n",
      "228/228 [==============================] - 7s 30ms/step - loss: 0.2314 - accuracy: 0.8976 - val_loss: 0.0774 - val_accuracy: 0.9707\n",
      "Epoch 70/150\n",
      "228/228 [==============================] - 7s 30ms/step - loss: 0.2319 - accuracy: 0.8992 - val_loss: 0.0797 - val_accuracy: 0.9691\n",
      "Epoch 71/150\n",
      "228/228 [==============================] - 6s 27ms/step - loss: 0.2314 - accuracy: 0.9008 - val_loss: 0.0753 - val_accuracy: 0.9679\n",
      "Epoch 72/150\n",
      "228/228 [==============================] - 4s 16ms/step - loss: 0.2258 - accuracy: 0.9046 - val_loss: 0.0727 - val_accuracy: 0.9703\n",
      "Epoch 73/150\n",
      "228/228 [==============================] - 4s 16ms/step - loss: 0.2224 - accuracy: 0.9052 - val_loss: 0.0722 - val_accuracy: 0.9711\n",
      "Epoch 74/150\n",
      "228/228 [==============================] - 4s 17ms/step - loss: 0.2166 - accuracy: 0.9055 - val_loss: 0.0700 - val_accuracy: 0.9731\n",
      "Epoch 75/150\n",
      "228/228 [==============================] - 4s 17ms/step - loss: 0.2254 - accuracy: 0.9042 - val_loss: 0.0688 - val_accuracy: 0.9719\n",
      "Epoch 76/150\n",
      "228/228 [==============================] - 4s 16ms/step - loss: 0.1932 - accuracy: 0.9185 - val_loss: 0.0733 - val_accuracy: 0.9667\n",
      "Epoch 77/150\n",
      "228/228 [==============================] - 4s 17ms/step - loss: 0.2157 - accuracy: 0.9064 - val_loss: 0.0685 - val_accuracy: 0.9739\n",
      "Epoch 78/150\n",
      "228/228 [==============================] - 4s 16ms/step - loss: 0.2065 - accuracy: 0.9108 - val_loss: 0.0621 - val_accuracy: 0.9731\n",
      "Epoch 79/150\n",
      "228/228 [==============================] - 4s 17ms/step - loss: 0.2173 - accuracy: 0.9090 - val_loss: 0.0625 - val_accuracy: 0.9770\n",
      "Epoch 80/150\n",
      "228/228 [==============================] - 4s 17ms/step - loss: 0.2142 - accuracy: 0.9098 - val_loss: 0.0636 - val_accuracy: 0.9759\n",
      "Epoch 81/150\n",
      "228/228 [==============================] - 4s 16ms/step - loss: 0.2052 - accuracy: 0.9124 - val_loss: 0.0579 - val_accuracy: 0.9818\n",
      "Epoch 82/150\n",
      "228/228 [==============================] - 4s 17ms/step - loss: 0.2195 - accuracy: 0.9083 - val_loss: 0.0582 - val_accuracy: 0.9762\n",
      "Epoch 83/150\n",
      "228/228 [==============================] - 4s 16ms/step - loss: 0.2030 - accuracy: 0.9137 - val_loss: 0.0673 - val_accuracy: 0.9743\n",
      "Epoch 84/150\n",
      "228/228 [==============================] - 4s 16ms/step - loss: 0.1960 - accuracy: 0.9159 - val_loss: 0.0594 - val_accuracy: 0.9802\n",
      "Epoch 85/150\n",
      "228/228 [==============================] - 4s 16ms/step - loss: 0.1969 - accuracy: 0.9156 - val_loss: 0.0588 - val_accuracy: 0.9735\n",
      "Epoch 86/150\n",
      "228/228 [==============================] - 4s 16ms/step - loss: 0.2054 - accuracy: 0.9120 - val_loss: 0.0626 - val_accuracy: 0.9822\n",
      "Epoch 87/150\n",
      "228/228 [==============================] - 4s 17ms/step - loss: 0.1920 - accuracy: 0.9177 - val_loss: 0.0522 - val_accuracy: 0.9838\n",
      "Epoch 88/150\n",
      "228/228 [==============================] - 4s 17ms/step - loss: 0.2001 - accuracy: 0.9168 - val_loss: 0.0509 - val_accuracy: 0.9786\n",
      "Epoch 89/150\n",
      "228/228 [==============================] - 4s 17ms/step - loss: 0.1974 - accuracy: 0.9196 - val_loss: 0.0560 - val_accuracy: 0.9814\n",
      "Epoch 90/150\n",
      "228/228 [==============================] - 4s 19ms/step - loss: 0.1970 - accuracy: 0.9180 - val_loss: 0.0517 - val_accuracy: 0.9846\n",
      "Epoch 91/150\n",
      "228/228 [==============================] - 4s 19ms/step - loss: 0.1884 - accuracy: 0.9177 - val_loss: 0.0492 - val_accuracy: 0.9873\n",
      "Epoch 92/150\n",
      "228/228 [==============================] - 4s 19ms/step - loss: 0.1876 - accuracy: 0.9168 - val_loss: 0.0493 - val_accuracy: 0.9869\n",
      "Epoch 93/150\n",
      "228/228 [==============================] - 4s 19ms/step - loss: 0.1969 - accuracy: 0.9143 - val_loss: 0.0528 - val_accuracy: 0.9794\n",
      "Epoch 94/150\n",
      "228/228 [==============================] - 5s 20ms/step - loss: 0.2031 - accuracy: 0.9190 - val_loss: 0.0562 - val_accuracy: 0.9854\n",
      "Epoch 95/150\n",
      "228/228 [==============================] - 5s 22ms/step - loss: 0.1959 - accuracy: 0.9187 - val_loss: 0.0473 - val_accuracy: 0.9889\n",
      "Epoch 96/150\n",
      "228/228 [==============================] - 7s 29ms/step - loss: 0.1777 - accuracy: 0.9270 - val_loss: 0.0453 - val_accuracy: 0.9905\n",
      "Epoch 97/150\n",
      "228/228 [==============================] - 7s 29ms/step - loss: 0.1872 - accuracy: 0.9221 - val_loss: 0.0516 - val_accuracy: 0.9877\n",
      "Epoch 98/150\n",
      "228/228 [==============================] - 7s 30ms/step - loss: 0.1939 - accuracy: 0.9177 - val_loss: 0.0496 - val_accuracy: 0.9893\n",
      "Epoch 99/150\n",
      "228/228 [==============================] - 7s 30ms/step - loss: 0.1836 - accuracy: 0.9213 - val_loss: 0.0398 - val_accuracy: 0.9897\n",
      "Epoch 100/150\n",
      "228/228 [==============================] - 7s 30ms/step - loss: 0.1840 - accuracy: 0.9269 - val_loss: 0.0398 - val_accuracy: 0.9897\n",
      "Epoch 101/150\n",
      "228/228 [==============================] - 7s 29ms/step - loss: 0.1814 - accuracy: 0.9243 - val_loss: 0.0397 - val_accuracy: 0.9921\n",
      "Epoch 102/150\n",
      "228/228 [==============================] - 7s 29ms/step - loss: 0.1758 - accuracy: 0.9235 - val_loss: 0.0392 - val_accuracy: 0.9929\n",
      "Epoch 103/150\n",
      "228/228 [==============================] - 7s 29ms/step - loss: 0.1791 - accuracy: 0.9210 - val_loss: 0.0414 - val_accuracy: 0.9901\n",
      "Epoch 104/150\n",
      "228/228 [==============================] - 6s 28ms/step - loss: 0.1905 - accuracy: 0.9224 - val_loss: 0.0387 - val_accuracy: 0.9913\n",
      "Epoch 105/150\n",
      "228/228 [==============================] - 7s 29ms/step - loss: 0.1846 - accuracy: 0.9216 - val_loss: 0.0441 - val_accuracy: 0.9889\n",
      "Epoch 106/150\n",
      "228/228 [==============================] - 7s 29ms/step - loss: 0.1738 - accuracy: 0.9266 - val_loss: 0.0416 - val_accuracy: 0.9905\n",
      "Epoch 107/150\n",
      "228/228 [==============================] - 7s 29ms/step - loss: 0.1744 - accuracy: 0.9270 - val_loss: 0.0384 - val_accuracy: 0.9917\n",
      "Epoch 108/150\n",
      "228/228 [==============================] - 7s 30ms/step - loss: 0.1886 - accuracy: 0.9207 - val_loss: 0.0393 - val_accuracy: 0.9893\n",
      "Epoch 109/150\n",
      "228/228 [==============================] - 7s 30ms/step - loss: 0.1744 - accuracy: 0.9269 - val_loss: 0.0389 - val_accuracy: 0.9909\n",
      "Epoch 110/150\n",
      "228/228 [==============================] - 7s 29ms/step - loss: 0.1844 - accuracy: 0.9237 - val_loss: 0.0380 - val_accuracy: 0.9861\n",
      "Epoch 111/150\n",
      "228/228 [==============================] - 7s 29ms/step - loss: 0.1682 - accuracy: 0.9298 - val_loss: 0.0443 - val_accuracy: 0.9893\n",
      "Epoch 112/150\n",
      "228/228 [==============================] - 7s 29ms/step - loss: 0.1762 - accuracy: 0.9307 - val_loss: 0.0412 - val_accuracy: 0.9913\n",
      "Epoch 113/150\n",
      "228/228 [==============================] - 7s 29ms/step - loss: 0.1750 - accuracy: 0.9285 - val_loss: 0.0396 - val_accuracy: 0.9877\n",
      "Epoch 114/150\n",
      "228/228 [==============================] - 7s 30ms/step - loss: 0.1717 - accuracy: 0.9307 - val_loss: 0.0370 - val_accuracy: 0.9937\n",
      "Epoch 115/150\n",
      "228/228 [==============================] - 7s 31ms/step - loss: 0.1650 - accuracy: 0.9352 - val_loss: 0.0346 - val_accuracy: 0.9933\n",
      "Epoch 116/150\n",
      "228/228 [==============================] - 7s 31ms/step - loss: 0.1637 - accuracy: 0.9345 - val_loss: 0.0356 - val_accuracy: 0.9909\n",
      "Epoch 117/150\n",
      "228/228 [==============================] - 7s 30ms/step - loss: 0.1738 - accuracy: 0.9272 - val_loss: 0.0314 - val_accuracy: 0.9921\n",
      "Epoch 118/150\n",
      "228/228 [==============================] - 7s 29ms/step - loss: 0.1583 - accuracy: 0.9377 - val_loss: 0.0307 - val_accuracy: 0.9937\n",
      "Epoch 119/150\n",
      "228/228 [==============================] - 7s 30ms/step - loss: 0.1645 - accuracy: 0.9320 - val_loss: 0.0323 - val_accuracy: 0.9921\n",
      "Epoch 120/150\n",
      "228/228 [==============================] - 5s 22ms/step - loss: 0.1704 - accuracy: 0.9316 - val_loss: 0.0317 - val_accuracy: 0.9952\n",
      "Epoch 121/150\n",
      "228/228 [==============================] - 4s 17ms/step - loss: 0.1597 - accuracy: 0.9376 - val_loss: 0.0284 - val_accuracy: 0.9933\n",
      "Epoch 122/150\n",
      "228/228 [==============================] - 4s 16ms/step - loss: 0.1619 - accuracy: 0.9385 - val_loss: 0.0394 - val_accuracy: 0.9877\n",
      "Epoch 123/150\n",
      "228/228 [==============================] - 4s 16ms/step - loss: 0.1718 - accuracy: 0.9298 - val_loss: 0.0310 - val_accuracy: 0.9949\n",
      "Epoch 124/150\n",
      "228/228 [==============================] - 4s 16ms/step - loss: 0.1687 - accuracy: 0.9309 - val_loss: 0.0333 - val_accuracy: 0.9929\n",
      "Epoch 125/150\n",
      "228/228 [==============================] - 4s 16ms/step - loss: 0.1637 - accuracy: 0.9338 - val_loss: 0.0293 - val_accuracy: 0.9949\n",
      "Epoch 126/150\n",
      "228/228 [==============================] - 4s 16ms/step - loss: 0.1664 - accuracy: 0.9339 - val_loss: 0.0292 - val_accuracy: 0.9917\n",
      "Epoch 127/150\n",
      "228/228 [==============================] - 4s 17ms/step - loss: 0.1675 - accuracy: 0.9319 - val_loss: 0.0272 - val_accuracy: 0.9945\n",
      "Epoch 128/150\n",
      "228/228 [==============================] - 4s 16ms/step - loss: 0.1605 - accuracy: 0.9347 - val_loss: 0.0258 - val_accuracy: 0.9976\n",
      "Epoch 129/150\n",
      "228/228 [==============================] - 4s 17ms/step - loss: 0.1557 - accuracy: 0.9392 - val_loss: 0.0264 - val_accuracy: 0.9949\n",
      "Epoch 130/150\n",
      "228/228 [==============================] - 4s 16ms/step - loss: 0.1641 - accuracy: 0.9351 - val_loss: 0.0320 - val_accuracy: 0.9905\n",
      "Epoch 131/150\n",
      "228/228 [==============================] - 4s 17ms/step - loss: 0.1566 - accuracy: 0.9374 - val_loss: 0.0260 - val_accuracy: 0.9960\n",
      "Epoch 132/150\n",
      "228/228 [==============================] - 4s 17ms/step - loss: 0.1572 - accuracy: 0.9382 - val_loss: 0.0348 - val_accuracy: 0.9921\n",
      "Epoch 133/150\n",
      "228/228 [==============================] - 4s 16ms/step - loss: 0.1652 - accuracy: 0.9344 - val_loss: 0.0310 - val_accuracy: 0.9960\n",
      "Epoch 134/150\n",
      "228/228 [==============================] - 4s 17ms/step - loss: 0.1525 - accuracy: 0.9395 - val_loss: 0.0291 - val_accuracy: 0.9921\n",
      "Epoch 135/150\n",
      "228/228 [==============================] - 4s 17ms/step - loss: 0.1594 - accuracy: 0.9364 - val_loss: 0.0271 - val_accuracy: 0.9949\n",
      "Epoch 136/150\n",
      "228/228 [==============================] - 4s 16ms/step - loss: 0.1564 - accuracy: 0.9383 - val_loss: 0.0238 - val_accuracy: 0.9984\n",
      "Epoch 137/150\n",
      "228/228 [==============================] - 4s 17ms/step - loss: 0.1622 - accuracy: 0.9366 - val_loss: 0.0273 - val_accuracy: 0.9956\n",
      "Epoch 138/150\n",
      "228/228 [==============================] - 4s 16ms/step - loss: 0.1512 - accuracy: 0.9393 - val_loss: 0.0197 - val_accuracy: 0.9976\n",
      "Epoch 139/150\n",
      "228/228 [==============================] - 4s 16ms/step - loss: 0.1542 - accuracy: 0.9393 - val_loss: 0.0239 - val_accuracy: 0.9956\n",
      "Epoch 140/150\n",
      "228/228 [==============================] - 4s 17ms/step - loss: 0.1390 - accuracy: 0.9473 - val_loss: 0.0207 - val_accuracy: 0.9960\n",
      "Epoch 141/150\n",
      "228/228 [==============================] - 4s 17ms/step - loss: 0.1510 - accuracy: 0.9407 - val_loss: 0.0240 - val_accuracy: 0.9952\n",
      "Epoch 142/150\n",
      "228/228 [==============================] - 4s 17ms/step - loss: 0.1462 - accuracy: 0.9410 - val_loss: 0.0259 - val_accuracy: 0.9956\n",
      "Epoch 143/150\n",
      "228/228 [==============================] - 4s 16ms/step - loss: 0.1567 - accuracy: 0.9383 - val_loss: 0.0248 - val_accuracy: 0.9964\n",
      "Epoch 144/150\n",
      "228/228 [==============================] - 4s 16ms/step - loss: 0.1405 - accuracy: 0.9458 - val_loss: 0.0216 - val_accuracy: 0.9980\n",
      "Epoch 145/150\n",
      "228/228 [==============================] - 4s 16ms/step - loss: 0.1612 - accuracy: 0.9374 - val_loss: 0.0218 - val_accuracy: 0.9968\n",
      "Epoch 146/150\n",
      "228/228 [==============================] - 4s 17ms/step - loss: 0.1512 - accuracy: 0.9391 - val_loss: 0.0233 - val_accuracy: 0.9956\n",
      "Epoch 147/150\n",
      "228/228 [==============================] - 4s 16ms/step - loss: 0.1520 - accuracy: 0.9367 - val_loss: 0.0211 - val_accuracy: 0.9968\n",
      "Epoch 148/150\n",
      "228/228 [==============================] - 4s 17ms/step - loss: 0.1480 - accuracy: 0.9440 - val_loss: 0.0262 - val_accuracy: 0.9941\n",
      "Epoch 149/150\n",
      "228/228 [==============================] - 4s 17ms/step - loss: 0.1626 - accuracy: 0.9367 - val_loss: 0.0222 - val_accuracy: 0.9972\n",
      "Epoch 150/150\n",
      "228/228 [==============================] - 4s 16ms/step - loss: 0.1343 - accuracy: 0.9468 - val_loss: 0.0217 - val_accuracy: 0.9972\n"
     ]
    }
   ],
   "source": [
    "history_model_eeg=model_eeg_nn.fit(xtr,ytr,validation_data=(xval,yval),batch_size=30,epochs=150)"
   ]
  },
  {
   "cell_type": "code",
   "execution_count": 28,
   "metadata": {},
   "outputs": [
    {
     "name": "stdout",
     "output_type": "stream",
     "text": [
      "109/109 [==============================] - 1s 6ms/step - loss: 0.0280 - accuracy: 0.9936\n"
     ]
    },
    {
     "data": {
      "text/plain": [
       "[0.02799062430858612, 0.9936397671699524]"
      ]
     },
     "execution_count": 28,
     "metadata": {},
     "output_type": "execute_result"
    }
   ],
   "source": [
    "#Testing the model\n",
    "model_eeg_nn.evaluate(xte,yte)"
   ]
  },
  {
   "cell_type": "code",
   "execution_count": 29,
   "metadata": {},
   "outputs": [
    {
     "name": "stdout",
     "output_type": "stream",
     "text": [
      "109/109 [==============================] - 1s 4ms/step\n"
     ]
    }
   ],
   "source": [
    "pred=model_eeg_nn.predict(xte)\n",
    "pred= [i[0] for i in pred]"
   ]
  },
  {
   "cell_type": "code",
   "execution_count": 30,
   "metadata": {},
   "outputs": [
    {
     "data": {
      "text/html": [
       "<div>\n",
       "<style scoped>\n",
       "    .dataframe tbody tr th:only-of-type {\n",
       "        vertical-align: middle;\n",
       "    }\n",
       "\n",
       "    .dataframe tbody tr th {\n",
       "        vertical-align: top;\n",
       "    }\n",
       "\n",
       "    .dataframe thead th {\n",
       "        text-align: right;\n",
       "    }\n",
       "</style>\n",
       "<table border=\"1\" class=\"dataframe\">\n",
       "  <thead>\n",
       "    <tr style=\"text-align: right;\">\n",
       "      <th></th>\n",
       "      <th>Actual</th>\n",
       "      <th>Pred</th>\n",
       "    </tr>\n",
       "  </thead>\n",
       "  <tbody>\n",
       "    <tr>\n",
       "      <th>0</th>\n",
       "      <td>0</td>\n",
       "      <td>0.005042</td>\n",
       "    </tr>\n",
       "    <tr>\n",
       "      <th>1</th>\n",
       "      <td>1</td>\n",
       "      <td>0.999182</td>\n",
       "    </tr>\n",
       "    <tr>\n",
       "      <th>2</th>\n",
       "      <td>0</td>\n",
       "      <td>0.002009</td>\n",
       "    </tr>\n",
       "    <tr>\n",
       "      <th>3</th>\n",
       "      <td>1</td>\n",
       "      <td>0.567648</td>\n",
       "    </tr>\n",
       "    <tr>\n",
       "      <th>4</th>\n",
       "      <td>1</td>\n",
       "      <td>0.998385</td>\n",
       "    </tr>\n",
       "    <tr>\n",
       "      <th>...</th>\n",
       "      <td>...</td>\n",
       "      <td>...</td>\n",
       "    </tr>\n",
       "    <tr>\n",
       "      <th>3454</th>\n",
       "      <td>0</td>\n",
       "      <td>0.040078</td>\n",
       "    </tr>\n",
       "    <tr>\n",
       "      <th>3455</th>\n",
       "      <td>0</td>\n",
       "      <td>0.037901</td>\n",
       "    </tr>\n",
       "    <tr>\n",
       "      <th>3456</th>\n",
       "      <td>0</td>\n",
       "      <td>0.009397</td>\n",
       "    </tr>\n",
       "    <tr>\n",
       "      <th>3457</th>\n",
       "      <td>1</td>\n",
       "      <td>0.999589</td>\n",
       "    </tr>\n",
       "    <tr>\n",
       "      <th>3458</th>\n",
       "      <td>0</td>\n",
       "      <td>0.000894</td>\n",
       "    </tr>\n",
       "  </tbody>\n",
       "</table>\n",
       "<p>3459 rows × 2 columns</p>\n",
       "</div>"
      ],
      "text/plain": [
       "      Actual      Pred\n",
       "0          0  0.005042\n",
       "1          1  0.999182\n",
       "2          0  0.002009\n",
       "3          1  0.567648\n",
       "4          1  0.998385\n",
       "...      ...       ...\n",
       "3454       0  0.040078\n",
       "3455       0  0.037901\n",
       "3456       0  0.009397\n",
       "3457       1  0.999589\n",
       "3458       0  0.000894\n",
       "\n",
       "[3459 rows x 2 columns]"
      ]
     },
     "execution_count": 30,
     "metadata": {},
     "output_type": "execute_result"
    }
   ],
   "source": [
    "df_pred = pd.DataFrame(zip(yte[0], pred), columns=['Actual','Pred'])\n",
    "df_pred"
   ]
  },
  {
   "cell_type": "code",
   "execution_count": 31,
   "metadata": {},
   "outputs": [
    {
     "name": "stdout",
     "output_type": "stream",
     "text": [
      "Test data R2 score: 0.9735008426446881\n"
     ]
    }
   ],
   "source": [
    "import math\n",
    "from sklearn.metrics import mean_squared_error, mean_absolute_error, explained_variance_score, r2_score \n",
    "print(\"Test data R2 score:\", r2_score(yte[0],pred))"
   ]
  },
  {
   "cell_type": "markdown",
   "metadata": {},
   "source": [
    "SVM"
   ]
  },
  {
   "cell_type": "code",
   "execution_count": 47,
   "metadata": {},
   "outputs": [
    {
     "name": "stdout",
     "output_type": "stream",
     "text": [
      "(12811,)\n"
     ]
    },
    {
     "data": {
      "text/plain": [
       "(12811, 13)"
      ]
     },
     "execution_count": 47,
     "metadata": {},
     "output_type": "execute_result"
    }
   ],
   "source": [
    "Y_2 = df.iloc[:,17].values\n",
    "print(Y_2.shape)\n",
    "X_2 = df_top.iloc[:,1:14].values\n",
    "X_2.shape"
   ]
  },
  {
   "cell_type": "code",
   "execution_count": 48,
   "metadata": {},
   "outputs": [],
   "source": [
    "#Splitting Dataset\n",
    "from sklearn.model_selection import train_test_split, cross_val_score\n",
    "X_train, X_test, y_train, y_test = train_test_split(X_2, Y_2,random_state=42,test_size=0.2)"
   ]
  },
  {
   "cell_type": "code",
   "execution_count": 49,
   "metadata": {},
   "outputs": [],
   "source": [
    "from sklearn.preprocessing import StandardScaler\n",
    "sc = StandardScaler()\n",
    "X_train = sc.fit_transform(X_train)\n",
    "X_test = sc.transform(X_test)"
   ]
  },
  {
   "cell_type": "code",
   "execution_count": 50,
   "metadata": {},
   "outputs": [
    {
     "name": "stdout",
     "output_type": "stream",
     "text": [
      "Accuracy is: 0.9126024190401872\n"
     ]
    }
   ],
   "source": [
    "from sklearn.svm import SVC\n",
    "model_eeg_svm = SVC()\n",
    "model_eeg_svm.fit(X_train, y_train)\n",
    "y_pred_svc = model_eeg_svm.predict(X_test)\n",
    "acc_svc = model_eeg_svm.score(X_test, y_test)\n",
    "print(\"Accuracy is:\",str(acc_svc))"
   ]
  },
  {
   "cell_type": "markdown",
   "metadata": {},
   "source": [
    "## Comparison between models"
   ]
  },
  {
   "cell_type": "code",
   "execution_count": 52,
   "metadata": {},
   "outputs": [
    {
     "name": "stdout",
     "output_type": "stream",
     "text": [
      "Accuracy of SVM is:  0.9126024190401872\n",
      "109/109 [==============================] - 1s 6ms/step - loss: 0.0280 - accuracy: 0.9936\n",
      "Accuracy of neural network is:  0.9936397671699524\n"
     ]
    }
   ],
   "source": [
    "print(\"Accuracy of SVM is: \",str(acc_svc))\n",
    "print(\"Accuracy of neural network is: \",model_eeg_nn.evaluate(xte,yte)[1])"
   ]
  },
  {
   "cell_type": "markdown",
   "metadata": {},
   "source": [
    "We notice that the better model for diagnosing dyslexia based on EEG signals is ANN"
   ]
  },
  {
   "cell_type": "code",
   "execution_count": 53,
   "metadata": {},
   "outputs": [
    {
     "data": {
      "text/html": [
       "<div>\n",
       "<style scoped>\n",
       "    .dataframe tbody tr th:only-of-type {\n",
       "        vertical-align: middle;\n",
       "    }\n",
       "\n",
       "    .dataframe tbody tr th {\n",
       "        vertical-align: top;\n",
       "    }\n",
       "\n",
       "    .dataframe thead th {\n",
       "        text-align: right;\n",
       "    }\n",
       "</style>\n",
       "<table border=\"1\" class=\"dataframe\">\n",
       "  <thead>\n",
       "    <tr style=\"text-align: right;\">\n",
       "      <th></th>\n",
       "      <th>SubjectID</th>\n",
       "      <th>VideoID</th>\n",
       "      <th>Attention</th>\n",
       "      <th>Mediation</th>\n",
       "      <th>Raw</th>\n",
       "      <th>Delta</th>\n",
       "      <th>Theta</th>\n",
       "      <th>Alpha1</th>\n",
       "      <th>Alpha2</th>\n",
       "      <th>Beta1</th>\n",
       "      <th>Beta2</th>\n",
       "      <th>Gamma1</th>\n",
       "      <th>Gamma2</th>\n",
       "      <th>age</th>\n",
       "    </tr>\n",
       "  </thead>\n",
       "  <tbody>\n",
       "    <tr>\n",
       "      <th>0</th>\n",
       "      <td>0.0</td>\n",
       "      <td>0.0</td>\n",
       "      <td>56.0</td>\n",
       "      <td>43.0</td>\n",
       "      <td>278.0</td>\n",
       "      <td>301963.0</td>\n",
       "      <td>90612.0</td>\n",
       "      <td>33735.0</td>\n",
       "      <td>23991.0</td>\n",
       "      <td>27946.0</td>\n",
       "      <td>45097.0</td>\n",
       "      <td>33228.0</td>\n",
       "      <td>8293.0</td>\n",
       "      <td>25</td>\n",
       "    </tr>\n",
       "  </tbody>\n",
       "</table>\n",
       "</div>"
      ],
      "text/plain": [
       "   SubjectID  VideoID  Attention  Mediation    Raw     Delta    Theta  \\\n",
       "0        0.0      0.0       56.0       43.0  278.0  301963.0  90612.0   \n",
       "\n",
       "    Alpha1   Alpha2    Beta1    Beta2   Gamma1  Gamma2   age  \n",
       "0  33735.0  23991.0  27946.0  45097.0  33228.0  8293.0    25  "
      ]
     },
     "execution_count": 53,
     "metadata": {},
     "output_type": "execute_result"
    }
   ],
   "source": [
    "df_test=df_top.head(1)\n",
    "df_test"
   ]
  },
  {
   "cell_type": "code",
   "execution_count": 54,
   "metadata": {},
   "outputs": [],
   "source": [
    "df_sc_test=scaler_eeg.transform(df_test)"
   ]
  },
  {
   "cell_type": "code",
   "execution_count": 56,
   "metadata": {},
   "outputs": [
    {
     "name": "stdout",
     "output_type": "stream",
     "text": [
      "1/1 [==============================] - 0s 64ms/step\n"
     ]
    },
    {
     "data": {
      "text/plain": [
       "array([[0.9986517 , 0.00134836]], dtype=float32)"
      ]
     },
     "execution_count": 56,
     "metadata": {},
     "output_type": "execute_result"
    }
   ],
   "source": [
    "model_eeg_nn.predict(df_sc_test)"
   ]
  },
  {
   "cell_type": "code",
   "execution_count": 57,
   "metadata": {},
   "outputs": [
    {
     "name": "stdout",
     "output_type": "stream",
     "text": [
      "INFO:tensorflow:Assets written to: Model/eeg\\assets\n"
     ]
    }
   ],
   "source": [
    "model_eeg_nn.save('Model/eeg', overwrite=True)"
   ]
  },
  {
   "cell_type": "code",
   "execution_count": 60,
   "metadata": {},
   "outputs": [
    {
     "data": {
      "text/plain": [
       "['scaler_eeg.bin']"
      ]
     },
     "execution_count": 60,
     "metadata": {},
     "output_type": "execute_result"
    }
   ],
   "source": [
    "import joblib\n",
    "joblib.dump(scaler_eeg, 'scaler_eeg.bin', compress=True)"
   ]
  },
  {
   "cell_type": "markdown",
   "metadata": {},
   "source": [
    "## Detection using Standardized Test"
   ]
  },
  {
   "cell_type": "markdown",
   "metadata": {},
   "source": [
    "### SVM"
   ]
  },
  {
   "cell_type": "code",
   "execution_count": 52,
   "metadata": {},
   "outputs": [],
   "source": [
    "X=data.drop(['Label'],axis='columns')\n",
    "y=data.Label\n",
    "X_train,X_test,y_train,y_test=train_test_split(X, y, test_size= 0.2)\n",
    "model_stdtest_svm=SVC(kernel='linear',C=1)"
   ]
  },
  {
   "cell_type": "code",
   "execution_count": 53,
   "metadata": {},
   "outputs": [
    {
     "data": {
      "text/plain": [
       "SVC(C=1, kernel='linear')"
      ]
     },
     "execution_count": 53,
     "metadata": {},
     "output_type": "execute_result"
    }
   ],
   "source": [
    "#Train the linear SVC classifier using the training data\n",
    "model_stdtest_svm.fit(X_train, y_train)"
   ]
  },
  {
   "cell_type": "code",
   "execution_count": 54,
   "metadata": {},
   "outputs": [],
   "source": [
    "svm_pred = model_stdtest_svm.predict(X_test)"
   ]
  },
  {
   "cell_type": "code",
   "execution_count": 55,
   "metadata": {},
   "outputs": [
    {
     "data": {
      "text/plain": [
       "0.97"
      ]
     },
     "execution_count": 55,
     "metadata": {},
     "output_type": "execute_result"
    }
   ],
   "source": [
    "accuracy = model_stdtest_svm.score(X_test, y_test)\n",
    "accuracy"
   ]
  },
  {
   "cell_type": "markdown",
   "metadata": {},
   "source": [
    "### Naive Bayes"
   ]
  },
  {
   "cell_type": "code",
   "execution_count": 56,
   "metadata": {},
   "outputs": [],
   "source": [
    "X=data.drop(['Label'],axis='columns')\n",
    "y=data.Label\n",
    "X_train, X_test, y_train, y_test = train_test_split(X, y, test_size = 0.20, random_state = 0)"
   ]
  },
  {
   "cell_type": "code",
   "execution_count": 57,
   "metadata": {},
   "outputs": [],
   "source": [
    "#Next, we are doing feature scaling to the training and test set of independent variables\n",
    "from sklearn.preprocessing import StandardScaler\n",
    "sc = StandardScaler()\n",
    "X_train = sc.fit_transform(X_train)\n",
    "X_test = sc.transform(X_test)"
   ]
  },
  {
   "cell_type": "code",
   "execution_count": 58,
   "metadata": {},
   "outputs": [],
   "source": [
    "from sklearn.preprocessing import StandardScaler\n",
    "sc = StandardScaler()\n",
    "X_train = sc.fit_transform(X_train)\n",
    "X_test = sc.transform(X_test)"
   ]
  },
  {
   "cell_type": "code",
   "execution_count": 59,
   "metadata": {},
   "outputs": [
    {
     "data": {
      "text/plain": [
       "GaussianNB()"
      ]
     },
     "execution_count": 59,
     "metadata": {},
     "output_type": "execute_result"
    }
   ],
   "source": [
    "from sklearn.naive_bayes import GaussianNB\n",
    "model_stdtest_nb = GaussianNB()\n",
    "model_stdtest_nb.fit(X_train, y_train)"
   ]
  },
  {
   "cell_type": "code",
   "execution_count": 60,
   "metadata": {},
   "outputs": [
    {
     "data": {
      "text/plain": [
       "array([1, 1, 2, 0, 2, 1, 1, 2, 0, 1, 1, 2, 0, 2, 0, 2, 2, 1, 1, 1, 2, 1,\n",
       "       1, 2, 2, 2, 2, 2, 1, 2, 1, 1, 2, 1, 1, 2, 2, 1, 2, 2, 1, 2, 2, 1,\n",
       "       1, 2, 2, 2, 1, 2, 2, 1, 2, 1, 2, 2, 2, 1, 1, 1, 2, 2, 1, 2, 1, 2,\n",
       "       2, 2, 2, 2, 0, 1, 1, 1, 1, 1, 2, 2, 2, 2, 1, 2, 2, 0, 1, 2, 1, 1,\n",
       "       2, 2, 1, 1, 2, 1, 1, 1, 0, 2, 2, 0], dtype=int64)"
      ]
     },
     "execution_count": 60,
     "metadata": {},
     "output_type": "execute_result"
    }
   ],
   "source": [
    "y_pred  =  model_stdtest_nb.predict(X_test)\n",
    "y_pred"
   ]
  },
  {
   "cell_type": "code",
   "execution_count": 61,
   "metadata": {},
   "outputs": [
    {
     "data": {
      "text/plain": [
       "array([[ 6,  0,  0],\n",
       "       [ 2, 42, 18],\n",
       "       [ 0,  0, 32]], dtype=int64)"
      ]
     },
     "execution_count": 61,
     "metadata": {},
     "output_type": "execute_result"
    }
   ],
   "source": [
    "from sklearn.metrics import confusion_matrix,accuracy_score\n",
    "cm = confusion_matrix(y_test, y_pred)\n",
    "cm"
   ]
  },
  {
   "cell_type": "code",
   "execution_count": 62,
   "metadata": {},
   "outputs": [
    {
     "data": {
      "text/plain": [
       "0.8"
      ]
     },
     "execution_count": 62,
     "metadata": {},
     "output_type": "execute_result"
    }
   ],
   "source": [
    "ac = accuracy_score(y_test,y_pred)\n",
    "ac"
   ]
  },
  {
   "cell_type": "markdown",
   "metadata": {},
   "source": [
    "### Random Forest"
   ]
  },
  {
   "cell_type": "code",
   "execution_count": 63,
   "metadata": {},
   "outputs": [],
   "source": [
    "X=data.drop(['Label'],axis='columns')\n",
    "y=data.Label\n",
    "X_train, X_test, y_train, y_test = train_test_split(X, y, test_size=0.2, random_state=0)"
   ]
  },
  {
   "cell_type": "code",
   "execution_count": 64,
   "metadata": {},
   "outputs": [],
   "source": [
    "#Feature Scaling, not required since all are between range of 0 and 1 but doing it nonetheless\n",
    "sc = StandardScaler()\n",
    "X_train = sc.fit_transform(X_train)\n",
    "X_test = sc.transform(X_test)"
   ]
  },
  {
   "cell_type": "code",
   "execution_count": 65,
   "metadata": {},
   "outputs": [],
   "source": [
    "from sklearn.ensemble import RandomForestClassifier\n",
    "model_stdtest_rf = RandomForestClassifier(n_estimators=20, random_state=0)\n",
    "model_stdtest_rf.fit(X_train, y_train)\n",
    "y_pred = model_stdtest_rf.predict(X_test)\n",
    "Pred = model_stdtest_rf.predict(X_test)"
   ]
  },
  {
   "cell_type": "code",
   "execution_count": 66,
   "metadata": {},
   "outputs": [
    {
     "name": "stdout",
     "output_type": "stream",
     "text": [
      "Accuracy score: 0.89\n"
     ]
    }
   ],
   "source": [
    "\n",
    "from sklearn.metrics import classification_report\n",
    "rand_score=model_stdtest_rf.score(X_test, y_test)\n",
    "classification_report_rf=classification_report(y_test,Pred)\n",
    "print(\"Accuracy score:\",rand_score)"
   ]
  },
  {
   "cell_type": "markdown",
   "metadata": {},
   "source": [
    "SVM has the best accuracy amoung the three method, hence we choose this to be our main model for prediction."
   ]
  },
  {
   "cell_type": "markdown",
   "metadata": {},
   "source": [
    "### Testing"
   ]
  },
  {
   "cell_type": "code",
   "execution_count": 68,
   "metadata": {},
   "outputs": [
    {
     "data": {
      "text/html": [
       "<div>\n",
       "<style scoped>\n",
       "    .dataframe tbody tr th:only-of-type {\n",
       "        vertical-align: middle;\n",
       "    }\n",
       "\n",
       "    .dataframe tbody tr th {\n",
       "        vertical-align: top;\n",
       "    }\n",
       "\n",
       "    .dataframe thead th {\n",
       "        text-align: right;\n",
       "    }\n",
       "</style>\n",
       "<table border=\"1\" class=\"dataframe\">\n",
       "  <thead>\n",
       "    <tr style=\"text-align: right;\">\n",
       "      <th></th>\n",
       "      <th>Language_vocab</th>\n",
       "      <th>Memory</th>\n",
       "      <th>Speed</th>\n",
       "      <th>Visual_discrimination</th>\n",
       "      <th>Audio_Discrimination</th>\n",
       "      <th>Survey_Score</th>\n",
       "    </tr>\n",
       "  </thead>\n",
       "  <tbody>\n",
       "    <tr>\n",
       "      <th>0</th>\n",
       "      <td>0.5</td>\n",
       "      <td>0.6</td>\n",
       "      <td>0.5</td>\n",
       "      <td>0.8</td>\n",
       "      <td>0.6</td>\n",
       "      <td>0.7</td>\n",
       "    </tr>\n",
       "    <tr>\n",
       "      <th>1</th>\n",
       "      <td>0.6</td>\n",
       "      <td>0.7</td>\n",
       "      <td>0.8</td>\n",
       "      <td>0.9</td>\n",
       "      <td>0.5</td>\n",
       "      <td>0.8</td>\n",
       "    </tr>\n",
       "    <tr>\n",
       "      <th>2</th>\n",
       "      <td>0.6</td>\n",
       "      <td>0.4</td>\n",
       "      <td>0.3</td>\n",
       "      <td>0.3</td>\n",
       "      <td>0.4</td>\n",
       "      <td>0.6</td>\n",
       "    </tr>\n",
       "    <tr>\n",
       "      <th>3</th>\n",
       "      <td>0.3</td>\n",
       "      <td>0.5</td>\n",
       "      <td>0.2</td>\n",
       "      <td>0.1</td>\n",
       "      <td>0.3</td>\n",
       "      <td>0.5</td>\n",
       "    </tr>\n",
       "    <tr>\n",
       "      <th>4</th>\n",
       "      <td>0.7</td>\n",
       "      <td>0.6</td>\n",
       "      <td>0.7</td>\n",
       "      <td>0.8</td>\n",
       "      <td>0.9</td>\n",
       "      <td>0.5</td>\n",
       "    </tr>\n",
       "  </tbody>\n",
       "</table>\n",
       "</div>"
      ],
      "text/plain": [
       "   Language_vocab  Memory  Speed  Visual_discrimination  Audio_Discrimination  \\\n",
       "0             0.5     0.6    0.5                    0.8                   0.6   \n",
       "1             0.6     0.7    0.8                    0.9                   0.5   \n",
       "2             0.6     0.4    0.3                    0.3                   0.4   \n",
       "3             0.3     0.5    0.2                    0.1                   0.3   \n",
       "4             0.7     0.6    0.7                    0.8                   0.9   \n",
       "\n",
       "   Survey_Score  \n",
       "0           0.7  \n",
       "1           0.8  \n",
       "2           0.6  \n",
       "3           0.5  \n",
       "4           0.5  "
      ]
     },
     "execution_count": 68,
     "metadata": {},
     "output_type": "execute_result"
    }
   ],
   "source": [
    "from sklearn.metrics import mean_absolute_error\n",
    "#Reading file without labels.\n",
    "data=pd.read_csv('Dataset/Standardized_Test/unlabeled_dysx.csv')\n",
    "#Labels of this file will be predicted by the prepared model.\n",
    "data.head()"
   ]
  },
  {
   "cell_type": "code",
   "execution_count": 69,
   "metadata": {},
   "outputs": [
    {
     "data": {
      "text/html": [
       "<div>\n",
       "<style scoped>\n",
       "    .dataframe tbody tr th:only-of-type {\n",
       "        vertical-align: middle;\n",
       "    }\n",
       "\n",
       "    .dataframe tbody tr th {\n",
       "        vertical-align: top;\n",
       "    }\n",
       "\n",
       "    .dataframe thead th {\n",
       "        text-align: right;\n",
       "    }\n",
       "</style>\n",
       "<table border=\"1\" class=\"dataframe\">\n",
       "  <thead>\n",
       "    <tr style=\"text-align: right;\">\n",
       "      <th></th>\n",
       "      <th>Language_vocab</th>\n",
       "      <th>Memory</th>\n",
       "      <th>Speed</th>\n",
       "      <th>Visual_discrimination</th>\n",
       "      <th>Audio_Discrimination</th>\n",
       "      <th>Survey_Score</th>\n",
       "      <th>Label</th>\n",
       "    </tr>\n",
       "  </thead>\n",
       "  <tbody>\n",
       "    <tr>\n",
       "      <th>0</th>\n",
       "      <td>0.5</td>\n",
       "      <td>0.6</td>\n",
       "      <td>0.5</td>\n",
       "      <td>0.8</td>\n",
       "      <td>0.6</td>\n",
       "      <td>0.7</td>\n",
       "      <td>1</td>\n",
       "    </tr>\n",
       "    <tr>\n",
       "      <th>1</th>\n",
       "      <td>0.6</td>\n",
       "      <td>0.7</td>\n",
       "      <td>0.8</td>\n",
       "      <td>0.9</td>\n",
       "      <td>0.5</td>\n",
       "      <td>0.8</td>\n",
       "      <td>2</td>\n",
       "    </tr>\n",
       "    <tr>\n",
       "      <th>2</th>\n",
       "      <td>0.6</td>\n",
       "      <td>0.4</td>\n",
       "      <td>0.3</td>\n",
       "      <td>0.3</td>\n",
       "      <td>0.4</td>\n",
       "      <td>0.6</td>\n",
       "      <td>1</td>\n",
       "    </tr>\n",
       "    <tr>\n",
       "      <th>3</th>\n",
       "      <td>0.3</td>\n",
       "      <td>0.5</td>\n",
       "      <td>0.2</td>\n",
       "      <td>0.1</td>\n",
       "      <td>0.3</td>\n",
       "      <td>0.5</td>\n",
       "      <td>0</td>\n",
       "    </tr>\n",
       "    <tr>\n",
       "      <th>4</th>\n",
       "      <td>0.7</td>\n",
       "      <td>0.6</td>\n",
       "      <td>0.7</td>\n",
       "      <td>0.8</td>\n",
       "      <td>0.9</td>\n",
       "      <td>0.5</td>\n",
       "      <td>2</td>\n",
       "    </tr>\n",
       "  </tbody>\n",
       "</table>\n",
       "</div>"
      ],
      "text/plain": [
       "   Language_vocab  Memory  Speed  Visual_discrimination  Audio_Discrimination  \\\n",
       "0             0.5     0.6    0.5                    0.8                   0.6   \n",
       "1             0.6     0.7    0.8                    0.9                   0.5   \n",
       "2             0.6     0.4    0.3                    0.3                   0.4   \n",
       "3             0.3     0.5    0.2                    0.1                   0.3   \n",
       "4             0.7     0.6    0.7                    0.8                   0.9   \n",
       "\n",
       "   Survey_Score  Label  \n",
       "0           0.7      1  \n",
       "1           0.8      2  \n",
       "2           0.6      1  \n",
       "3           0.5      0  \n",
       "4           0.5      2  "
      ]
     },
     "execution_count": 69,
     "metadata": {},
     "output_type": "execute_result"
    }
   ],
   "source": [
    "#Reading file with labels.\n",
    "dataset = pd.read_csv('Dataset/Standardized_Test/labeled_dysx.csv')\n",
    "#Predictions made for the above file will be compared with labels present in this file.\n",
    "y_given = dataset.Label #The type of y_given is Pandas Series.\n",
    "dataset.head()"
   ]
  },
  {
   "cell_type": "code",
   "execution_count": 70,
   "metadata": {},
   "outputs": [
    {
     "data": {
      "text/plain": [
       "array([[-0.3900195 ,  0.13196981, -0.35675902,  1.00196844,  0.09803907,\n",
       "         0.56539244],\n",
       "       [ 0.1100055 ,  0.60329054,  1.03683089,  1.46285549, -0.39710776,\n",
       "         1.04051214],\n",
       "       [ 0.1100055 , -0.81067167, -1.28581896, -1.3024668 , -0.8922546 ,\n",
       "         0.09027274],\n",
       "       ...,\n",
       "       [ 0.6100305 , -0.33935093,  1.03683089,  1.46285549,  1.08833274,\n",
       "        -0.38484696],\n",
       "       [-1.39006951, -0.33935093, -0.82128899,  0.08019435,  0.09803907,\n",
       "         0.09027274],\n",
       "       [ 0.6100305 ,  0.60329054,  1.03683089,  0.08019435,  1.08833274,\n",
       "         0.09027274]])"
      ]
     },
     "execution_count": 70,
     "metadata": {},
     "output_type": "execute_result"
    }
   ],
   "source": [
    "sc=StandardScaler(copy=False)\n",
    "sc.fit_transform(data)"
   ]
  },
  {
   "cell_type": "code",
   "execution_count": 71,
   "metadata": {},
   "outputs": [
    {
     "data": {
      "text/plain": [
       "0    0\n",
       "1    1\n",
       "2    0\n",
       "3    0\n",
       "4    1\n",
       "dtype: int64"
      ]
     },
     "execution_count": 71,
     "metadata": {},
     "output_type": "execute_result"
    }
   ],
   "source": [
    "y_pred = model_stdtest_svm.predict(data)\n",
    "y_pred = pd.Series(y_pred)\n",
    "y_pred.head()"
   ]
  },
  {
   "cell_type": "markdown",
   "metadata": {},
   "source": [
    "### Saving the Model"
   ]
  },
  {
   "cell_type": "code",
   "execution_count": 72,
   "metadata": {},
   "outputs": [],
   "source": [
    "pickle.dump(model_stdtest_svm, open('Model/stdtest.pkl', 'wb'))"
   ]
  },
  {
   "cell_type": "markdown",
   "metadata": {},
   "source": [
    "## Detection using Handwriting"
   ]
  },
  {
   "cell_type": "markdown",
   "metadata": {},
   "source": [
    "### Neural Network"
   ]
  },
  {
   "cell_type": "code",
   "execution_count": 74,
   "metadata": {},
   "outputs": [
    {
     "name": "stdout",
     "output_type": "stream",
     "text": [
      "Found 151649 images belonging to 3 classes.\n",
      "Found 56723 images belonging to 3 classes.\n"
     ]
    }
   ],
   "source": [
    "#Spliting Dataset into training set and testing set\n",
    "from keras.preprocessing.image import ImageDataGenerator\n",
    "from keras.models import Sequential\n",
    "from keras.layers import Conv2D\n",
    "from keras.layers import MaxPooling2D\n",
    "from keras.layers import Flatten\n",
    "from keras.layers import Dense\n",
    "\n",
    "train_datagen = ImageDataGenerator(rescale = 1./255)\n",
    "\n",
    "test_datagen = ImageDataGenerator(rescale = 1./255)\n",
    "\n",
    "training_set = train_datagen.flow_from_directory(r'Dataset/Gambo/Train/',\n",
    "                                                 target_size = (29, 29),\n",
    "                                                 batch_size = 32,\n",
    "                                                 class_mode = 'categorical',\n",
    "                                                 )\n",
    "\n",
    "test_set = test_datagen.flow_from_directory(r'Dataset/Gambo/Test/',\n",
    "                                            target_size = (29, 29),\n",
    "                                            batch_size = 32,\n",
    "                                            class_mode = 'categorical',\n",
    "                                            )"
   ]
  },
  {
   "cell_type": "code",
   "execution_count": 75,
   "metadata": {},
   "outputs": [
    {
     "name": "stdout",
     "output_type": "stream",
     "text": [
      "Model: \"sequential_1\"\n",
      "_________________________________________________________________\n",
      " Layer (type)                Output Shape              Param #   \n",
      "=================================================================\n",
      " conv2d (Conv2D)             (None, 27, 27, 517)       14476     \n",
      "                                                                 \n",
      " conv2d_1 (Conv2D)           (None, 25, 25, 512)       2382848   \n",
      "                                                                 \n",
      " max_pooling2d (MaxPooling2D  (None, 12, 12, 512)      0         \n",
      " )                                                               \n",
      "                                                                 \n",
      " conv2d_2 (Conv2D)           (None, 10, 10, 128)       589952    \n",
      "                                                                 \n",
      " conv2d_3 (Conv2D)           (None, 8, 8, 128)         147584    \n",
      "                                                                 \n",
      " max_pooling2d_1 (MaxPooling  (None, 4, 4, 128)        0         \n",
      " 2D)                                                             \n",
      "                                                                 \n",
      " flatten (Flatten)           (None, 2048)              0         \n",
      "                                                                 \n",
      " dense_7 (Dense)             (None, 128)               262272    \n",
      "                                                                 \n",
      " dense_8 (Dense)             (None, 64)                8256      \n",
      "                                                                 \n",
      " dense_9 (Dense)             (None, 3)                 195       \n",
      "                                                                 \n",
      "=================================================================\n",
      "Total params: 3,405,583\n",
      "Trainable params: 3,405,583\n",
      "Non-trainable params: 0\n",
      "_________________________________________________________________\n"
     ]
    }
   ],
   "source": [
    "#CNN\n",
    "model_handwriting = Sequential()\n",
    "model_handwriting.add(Conv2D(512, (3, 3), input_shape = (29,29,3), activation = 'relu'))\n",
    "model_handwriting.add(Conv2D(512, (3, 3), activation = 'relu'))\n",
    "model_handwriting.add(MaxPooling2D(pool_size = (2, 2)))\n",
    "model_handwriting.add(Conv2D(128, (3, 3), activation = 'relu'))\n",
    "model_handwriting.add(Conv2D(128, (3, 3), activation = 'relu'))\n",
    "model_handwriting.add(MaxPooling2D(pool_size = (2, 2)))\n",
    "model_handwriting.add(Flatten())\n",
    "model_handwriting.add(Dense(units = 128, activation = 'relu'))\n",
    "model_handwriting.add(Dense(units = 64, activation = 'relu'))\n",
    "model_handwriting.add(Dense(units = 3, activation = 'softmax'))\n",
    "model_handwriting.compile(optimizer = 'adam', loss = 'categorical_crossentropy', metrics = ['accuracy'])\n",
    "\n",
    "model_handwriting.summary()"
   ]
  },
  {
   "cell_type": "code",
   "execution_count": 76,
   "metadata": {},
   "outputs": [],
   "source": [
    "from livelossplot import PlotLossesKeras\n",
    "from livelossplot.keras import PlotLossesCallback"
   ]
  },
  {
   "cell_type": "code",
   "execution_count": 77,
   "metadata": {},
   "outputs": [
    {
     "data": {
      "image/png": "[encoded data removed]",
      "text/plain": [
       "<Figure size 864x576 with 2 Axes>"
      ]
     },
     "metadata": {
      "needs_background": "light"
     },
     "output_type": "display_data"
    },
    {
     "name": "stdout",
     "output_type": "stream",
     "text": [
      "accuracy\n",
      "\ttraining         \t (min:    0.908, max:    0.986, cur:    0.986)\n",
      "\tvalidation       \t (min:    0.880, max:    0.880, cur:    0.880)\n",
      "Loss\n",
      "\ttraining         \t (min:    0.041, max:    0.242, cur:    0.041)\n",
      "\tvalidation       \t (min:    0.359, max:    0.359, cur:    0.359)\n",
      "\n",
      "Epoch 5: saving model to model_weights.h5\n",
      "WARNING:tensorflow:Learning rate reduction is conditioned on metric `val_loss` which is not available. Available metrics are: loss,accuracy,lr\n",
      "2000/2000 [==============================] - 175s 88ms/step - loss: 0.0407 - accuracy: 0.9861 - lr: 0.0010\n"
     ]
    }
   ],
   "source": [
    "reduce_lr = ReduceLROnPlateau(monitor='val_loss', factor=0.1,\n",
    "                              patience=2, min_lr=0.00001, mode='auto')\n",
    "checkpoint = ModelCheckpoint(\"model_weights.h5\", monitor='val_accuracy',\n",
    "                             save_weights_only=True, mode='max', verbose=1)\n",
    "callbacks = [PlotLossesKeras(), checkpoint, reduce_lr]\n",
    "\n",
    "history_handwriting=model_handwriting.fit(training_set,\n",
    "                         steps_per_epoch = 2000,\n",
    "                         epochs = 5,\n",
    "                         validation_data = test_set,\n",
    "                         validation_steps = 2000,\n",
    "                         callbacks=callbacks\n",
    "                         )"
   ]
  },
  {
   "cell_type": "code",
   "execution_count": 80,
   "metadata": {},
   "outputs": [
    {
     "name": "stderr",
     "output_type": "stream",
     "text": [
      "WARNING:absl:Found untraced functions such as _jit_compiled_convolution_op, _jit_compiled_convolution_op, _jit_compiled_convolution_op, _jit_compiled_convolution_op while saving (showing 4 of 4). These functions will not be directly callable after loading.\n"
     ]
    },
    {
     "name": "stdout",
     "output_type": "stream",
     "text": [
      "INFO:tensorflow:Assets written to: Model/handwriting\\assets\n"
     ]
    },
    {
     "name": "stderr",
     "output_type": "stream",
     "text": [
      "INFO:tensorflow:Assets written to: Model/handwriting\\assets\n"
     ]
    }
   ],
   "source": [
    "model_handwriting.save('Model/handwriting', overwrite=True)"
   ]
  }
 ],
 "metadata": {
  "kernelspec": {
   "display_name": "Python 3.10.2 64-bit",
   "language": "python",
   "name": "python3"
  },
  "language_info": {
   "codemirror_mode": {
    "name": "ipython",
    "version": 3
   },
   "file_extension": ".py",
   "mimetype": "text/x-python",
   "name": "python",
   "nbconvert_exporter": "python",
   "pygments_lexer": "ipython3",
   "version": "3.10.2"
  },
  "orig_nbformat": 4,
  "vscode": {
   "interpreter": {
    "hash": "4b23d2aac8827ffde8220a2f57f3be4eaadc7b2016b0d2037ddf4d29bd1fafe8"
   }
  }
 },
 "nbformat": 4,
 "nbformat_minor": 2
}
